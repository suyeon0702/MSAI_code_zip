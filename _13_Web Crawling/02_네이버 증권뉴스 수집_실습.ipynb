{
 "cells": [
  {
   "cell_type": "markdown",
   "metadata": {},
   "source": [
    "## 네이버 증권뉴스 data 가져오기"
   ]
  },
  {
   "cell_type": "markdown",
   "metadata": {},
   "source": [
    "### module import"
   ]
  },
  {
   "cell_type": "code",
   "execution_count": 1,
   "metadata": {},
   "outputs": [],
   "source": [
    "from selenium.webdriver import Chrome\n",
    "\n",
    "from selenium.webdriver.support.ui import Select\n",
    "from selenium.webdriver.common.keys import Keys\n",
    "from selenium.webdriver.common.by import By\n",
    "from pywinauto.keyboard import send_keys\n",
    "from selenium.webdriver.common.alert import Alert\n",
    "from selenium.webdriver.support.select import Select\n",
    "\n",
    "from selenium.webdriver.support.ui import WebDriverWait\n",
    "from selenium.webdriver.support import expected_conditions as expected_conditions\n",
    "\n",
    "import json\n",
    "\n",
    "import time, os"
   ]
  },
  {
   "cell_type": "markdown",
   "metadata": {},
   "source": [
    "### init"
   ]
  },
  {
   "cell_type": "code",
   "execution_count": 2,
   "metadata": {},
   "outputs": [],
   "source": [
    "# url\n",
    "url = \"https://finance.naver.com/news/mainnews.naver\" # naver finance main news"
   ]
  },
  {
   "cell_type": "code",
   "execution_count": 3,
   "metadata": {},
   "outputs": [],
   "source": [
    "# driver init & 접속\n",
    "driver = Chrome()\n",
    "driver.get(url)\n",
    "# time.sleep(1)"
   ]
  },
  {
   "cell_type": "markdown",
   "metadata": {},
   "source": [
    "### 아티클 제목만 추출"
   ]
  },
  {
   "cell_type": "code",
   "execution_count": 4,
   "metadata": {},
   "outputs": [
    {
     "name": "stdout",
     "output_type": "stream",
     "text": [
      "기업거버넌스포럼 “파행적 고려아연 임시 주총에 국격 추락”\n",
      "암호화폐 베테랑 \"비트코인 2~3월 13만달러 돌파\"\n",
      "삼성운용 'KODEX 200타겟위클리커버드콜', 두 달만에 순자산 1000억 돌파\n",
      "연휴 후 한국 증시, 반도체주 '딥시크 쇼크'\n",
      "메모리 양극화 심화에…삼성전자 4분기 반도체 영업익 2.9조(종합)\n",
      "‘딥시크 쇼크’에 관련주 희비…‘반도체’ 울고 ‘AI소프트웨어’ 웃고\n",
      "\"백종원 믿고 샀는데\" 신저가 찍은 더본코리아…99.99%가 '비명'\n",
      "미래운용 ‘TIGER 미국필라델피아AI반도체나스닥’, 순자산 3000억 돌파\n",
      "‘반도체 뒷걸음질’ 삼성전자…외국인 보유 비중 2년來 최저 [투자360]\n",
      "“투자자 99%가 손실이라니”…리니지 제국 다시 부활할까 [K주식 이걸 사? 말아?]\n",
      "딥시크 충격에 SK하이닉스 약세…네이버·카카오 급등\n",
      "\"언젠간 오르겠지\" 버텼는데 적자 확대…호텔신라 목표가도 '뚝뚝'\n",
      "`딥시크 쇼크` 국장 덮쳤다…SK하이닉스 10%대↓\n",
      "현금부자 주목, KODEX 200타겟위클리커버드콜…순자산 1000억 돌파\n",
      "허선호 미래에셋증권 대표 \"서학개미 13조 벌어, 중국·인도로 분산투자\"\n",
      "“미·중 AI 패권전쟁 시작됐다”…엔비디아 누른 ‘가성비 AI’ 딥시크 파장 어디까지? [투자360]\n",
      "\"네이버도 할 수 있는 거 아냐?\"…'딥시크 등장'에 주가 급등\n",
      "기다리던 엔비디아 HBM 납품 소식인데…삼성전자, 2%대 하락[핫종목]\n",
      "'딥시크 쇼크' 20만닉스도 위태…반도체주 줄줄이 '휘청'\n",
      "앱트뉴로사이언스-에이프로젠, 파킨슨병 치료제 공동개발 계약 체결\n"
     ]
    }
   ],
   "source": [
    "# 아티클 제목만 추출\n",
    "subjects = driver.find_elements(By.CSS_SELECTOR, \".articleSubject\")\n",
    "subjects\n",
    "\n",
    "# 제목 요소의 텍스트 추출\n",
    "for subject  in subjects:\n",
    "    print(subject.text)"
   ]
  },
  {
   "cell_type": "markdown",
   "metadata": {},
   "source": [
    "### 아티클에서 여러 요소 추출"
   ]
  },
  {
   "cell_type": "code",
   "execution_count": 5,
   "metadata": {},
   "outputs": [],
   "source": [
    "# 아티클 영역 요소 선택\n",
    "articles = driver.find_elements(By.CSS_SELECTOR, \".block1\")\n",
    "\n",
    "# 각 아티클 영역 요소에서 세부 요소 추출\n",
    "article_list = []\n",
    "for article in articles:\n",
    "    subject = article.find_element(By.CSS_SELECTOR, \".articleSubject\").text\n",
    "    summary = article.find_element(By.CSS_SELECTOR, \".articleSummary\").text\n",
    "    press   = article.find_element(By.CSS_SELECTOR, \".press\").text\n",
    "    wdate   = article.find_element(By.CSS_SELECTOR, \".wdate\").text\n",
    "    link    = article.find_element(By.CSS_SELECTOR, \".articleSubject>a\").get_attribute(\"href\")\n",
    "    article_list.append([subject, summary, press, wdate, link])\n"
   ]
  },
  {
   "cell_type": "markdown",
   "metadata": {},
   "source": [
    "### 파일로 다운로드"
   ]
  },
  {
   "cell_type": "code",
   "execution_count": 6,
   "metadata": {},
   "outputs": [
    {
     "data": {
      "text/html": [
       "<div>\n",
       "<style scoped>\n",
       "    .dataframe tbody tr th:only-of-type {\n",
       "        vertical-align: middle;\n",
       "    }\n",
       "\n",
       "    .dataframe tbody tr th {\n",
       "        vertical-align: top;\n",
       "    }\n",
       "\n",
       "    .dataframe thead th {\n",
       "        text-align: right;\n",
       "    }\n",
       "</style>\n",
       "<table border=\"1\" class=\"dataframe\">\n",
       "  <thead>\n",
       "    <tr style=\"text-align: right;\">\n",
       "      <th></th>\n",
       "      <th>subject</th>\n",
       "      <th>summary</th>\n",
       "      <th>press</th>\n",
       "      <th>wdate</th>\n",
       "      <th>link</th>\n",
       "    </tr>\n",
       "  </thead>\n",
       "  <tbody>\n",
       "    <tr>\n",
       "      <th>0</th>\n",
       "      <td>기업거버넌스포럼 “파행적 고려아연 임시 주총에 국격 추락”</td>\n",
       "      <td>최대주주 영풍의 의결권을 기습적으로 배제하면서 파행적으로 진행된 고려아연의 임시주주...</td>\n",
       "      <td>데일리안</td>\n",
       "      <td>2025-01-31 10:56:13</td>\n",
       "      <td>https://n.news.naver.com/mnews/article/119/000...</td>\n",
       "    </tr>\n",
       "    <tr>\n",
       "      <th>1</th>\n",
       "      <td>암호화폐 베테랑 \"비트코인 2~3월 13만달러 돌파\"</td>\n",
       "      <td>월가에서 암호화폐 베테랑으로 불리는 제프 켄드릭 스탠다드차타드(SC) 애널리스트가 ...</td>\n",
       "      <td>한국경제TV</td>\n",
       "      <td>2025-01-31 10:43:15</td>\n",
       "      <td>https://n.news.naver.com/mnews/article/215/000...</td>\n",
       "    </tr>\n",
       "    <tr>\n",
       "      <th>2</th>\n",
       "      <td>삼성운용 'KODEX 200타겟위클리커버드콜', 두 달만에 순자산 1000억 돌파</td>\n",
       "      <td>최근 ‘세금 없는’ 국내 주식 시세차익과 장내 파생상품 수익을 활용해 매월 고배당과...</td>\n",
       "      <td>파이낸셜뉴스</td>\n",
       "      <td>2025-01-31 10:34:36</td>\n",
       "      <td>https://n.news.naver.com/mnews/article/014/000...</td>\n",
       "    </tr>\n",
       "  </tbody>\n",
       "</table>\n",
       "</div>"
      ],
      "text/plain": [
       "                                         subject  \\\n",
       "0               기업거버넌스포럼 “파행적 고려아연 임시 주총에 국격 추락”   \n",
       "1                  암호화폐 베테랑 \"비트코인 2~3월 13만달러 돌파\"   \n",
       "2  삼성운용 'KODEX 200타겟위클리커버드콜', 두 달만에 순자산 1000억 돌파   \n",
       "\n",
       "                                             summary   press  \\\n",
       "0  최대주주 영풍의 의결권을 기습적으로 배제하면서 파행적으로 진행된 고려아연의 임시주주...    데일리안   \n",
       "1  월가에서 암호화폐 베테랑으로 불리는 제프 켄드릭 스탠다드차타드(SC) 애널리스트가 ...  한국경제TV   \n",
       "2  최근 ‘세금 없는’ 국내 주식 시세차익과 장내 파생상품 수익을 활용해 매월 고배당과...  파이낸셜뉴스   \n",
       "\n",
       "                 wdate                                               link  \n",
       "0  2025-01-31 10:56:13  https://n.news.naver.com/mnews/article/119/000...  \n",
       "1  2025-01-31 10:43:15  https://n.news.naver.com/mnews/article/215/000...  \n",
       "2  2025-01-31 10:34:36  https://n.news.naver.com/mnews/article/014/000...  "
      ]
     },
     "execution_count": 6,
     "metadata": {},
     "output_type": "execute_result"
    }
   ],
   "source": [
    "import pandas as pd\n",
    "\n",
    "df = pd.DataFrame(article_list,\n",
    "                columns=['subject', 'summary', 'press', 'wdate', 'link'])\n",
    "df.head(3)"
   ]
  },
  {
   "cell_type": "code",
   "execution_count": 8,
   "metadata": {},
   "outputs": [],
   "source": [
    "df.to_csv('./data/네이버증권뉴스.csv', encoding='utf-8', index=False)\n",
    "\n",
    "import openpyxl\n",
    "df.to_excel('./data/네이버증권뉴스.xlsx', index=False)"
   ]
  },
  {
   "cell_type": "markdown",
   "metadata": {},
   "source": [
    "### 특정 날짜의 기사 수집"
   ]
  },
  {
   "cell_type": "code",
   "execution_count": 9,
   "metadata": {},
   "outputs": [
    {
     "data": {
      "text/plain": [
       "'https://finance.naver.com/news/mainnews.naver'"
      ]
     },
     "execution_count": 9,
     "metadata": {},
     "output_type": "execute_result"
    }
   ],
   "source": [
    "'''\n",
    "url ex) https://finance.naver.com/news/mainnews.naver?date=2025-01-23\n",
    "'''"
   ]
  },
  {
   "cell_type": "code",
   "execution_count": 12,
   "metadata": {},
   "outputs": [],
   "source": [
    "import datetime\n",
    "date = input(\"검색할 날짜(yyyymmdd) : \")\n",
    "if date==\"\": date = datetime.datetime.now().strftime('%Y-%m-%d')\n",
    "else: date = f'{date[:4]}-{date[4:6]}-{date[6:]}'\n",
    "url2 = url + \"?date=\" + date\n",
    "\n",
    "driver.get(url2)"
   ]
  },
  {
   "cell_type": "code",
   "execution_count": 13,
   "metadata": {},
   "outputs": [],
   "source": [
    "# 파일명 관리\n",
    "file_name = date.replace('-', '')\n",
    "df.to_csv(f\"./data/네이버증권뉴스_{file_name}.csv\", encoding='utf-8', index=False)\n",
    "\n",
    "df.to_excel(f'./data/네이버증권뉴스_{file_name}.xlsx', index=False)"
   ]
  },
  {
   "cell_type": "markdown",
   "metadata": {},
   "source": [
    "### 여러 페이지 크롤링"
   ]
  },
  {
   "cell_type": "code",
   "execution_count": null,
   "metadata": {},
   "outputs": [],
   "source": [
    "'''\n",
    "url \n",
    "ex) https://finance.naver.com/news/mainnews.naver?date=2025-01-23&page=1\n",
    "ex) https://finance.naver.com/news/mainnews.naver?date=2025-01-23&page=2\n",
    "ex) https://finance.naver.com/news/mainnews.naver?date=2025-01-23&page=3\n",
    "'''"
   ]
  },
  {
   "cell_type": "code",
   "execution_count": 14,
   "metadata": {},
   "outputs": [],
   "source": [
    "# 모든 페이지 크롤링\n",
    "article_list = []\n",
    "page = 1\n",
    "while True:\n",
    "    page_url = f'{url2}&page={page}'\n",
    "    driver.get(page_url)\n",
    "    time.sleep(2) # 페이지가 로딩되는 시간 감안하여 delay\n",
    "\n",
    "    # 아티클 영역 요소 선택\n",
    "    articles = driver.find_elements(By.CSS_SELECTOR, \".block1\")\n",
    "\n",
    "    # 아티클 요소에서 세부 요소 추출\n",
    "    for article in articles:\n",
    "        subject = article.find_element(By.CSS_SELECTOR, \".articleSubject\").text\n",
    "        summary = article.find_element(By.CSS_SELECTOR, \".articleSummary\").text\n",
    "        press   = article.find_element(By.CSS_SELECTOR, \".press\").text\n",
    "        wdate   = article.find_element(By.CSS_SELECTOR, \".wdate\").text\n",
    "        link    = article.find_element(By.CSS_SELECTOR, \".articleSubject>a\").get_attribute('href')\n",
    "        article_list.append([subject, summary, press, wdate, link])\n",
    "\n",
    "    # 다음 페이지 버튼 확인\n",
    "    try:\n",
    "        driver.find_element(By.CSS_SELECTOR, \".pgRR\")\n",
    "        page += 1\n",
    "    except:\n",
    "        break\n",
    "driver.quit()\n",
    "\n",
    "df = pd.DataFrame(article_list,\n",
    "                columns = ['subject', 'summary', 'press', 'wdate', 'link'])\n",
    "\n",
    "file_name= date.replace('-', '')\n",
    "df.to_csv(f'./data/네이버증권뉴스_{file_name}.csv', encoding='utf-8', index=False)\n",
    "df.to_excel(f'./data/네이버증권뉴스_{file_name}.xlsx', index=False)"
   ]
  },
  {
   "cell_type": "markdown",
   "metadata": {},
   "source": [
    "### 전체 코드"
   ]
  },
  {
   "cell_type": "code",
   "execution_count": 18,
   "metadata": {},
   "outputs": [],
   "source": [
    "date = input(\"검색할 날짜(yyyymmdd) : \")\n",
    "if date==\"\": date = datetime.datetime.now().strftime('%Y-%m-%d')\n",
    "else: date = f'{date[:4]}-{date[4:6]}-{date[6:]}'\n",
    "url = 'https://finance.naver.com/news/mainnews.naver'\n",
    "date_url = url + \"?date=\" + date\n",
    "\n",
    "driver = Chrome()\n",
    "driver.get(date_url)\n",
    "\n",
    "# 모든 페이지 크롤링\n",
    "article_list = []\n",
    "page = 1\n",
    "while True:\n",
    "    page_url = f'{date_url}&page={page}'\n",
    "    driver.get(page_url)\n",
    "    time.sleep(2) # 페이지가 로딩되는 시간 감안하여 delay\n",
    "\n",
    "    # 아티클 영역 요소 선택\n",
    "    articles = driver.find_elements(By.CSS_SELECTOR, \".block1\")\n",
    "\n",
    "    # 아티클 요소에서 세부 요소 추출\n",
    "    for article in articles:\n",
    "        subject = article.find_element(By.CSS_SELECTOR, \".articleSubject\").text\n",
    "        summary = article.find_element(By.CSS_SELECTOR, \".articleSummary\").text\n",
    "        press   = article.find_element(By.CSS_SELECTOR, \".press\").text\n",
    "        wdate   = article.find_element(By.CSS_SELECTOR, \".wdate\").text\n",
    "        link    = article.find_element(By.CSS_SELECTOR, \".articleSubject>a\").get_attribute('href')\n",
    "        article_list.append([subject, summary, press, wdate, link])\n",
    "\n",
    "    # 다음 페이지 버튼 확인\n",
    "    try:\n",
    "        driver.find_element(By.CSS_SELECTOR, \".pgRR\")\n",
    "        page += 1\n",
    "    except:\n",
    "        break\n",
    "driver.quit()\n",
    "\n",
    "df = pd.DataFrame(article_list,\n",
    "                columns = ['subject', 'summary', 'press', 'wdate', 'link'])\n",
    "\n",
    "file_name= date.replace('-', '')\n",
    "df.to_csv(f'./data/네이버증권뉴스_{file_name}.csv', encoding='utf-8', index=False)\n",
    "df.to_excel(f'./data/네이버증권뉴스_{file_name}.xlsx', index=False)"
   ]
  },
  {
   "cell_type": "markdown",
   "metadata": {},
   "source": [
    "### +) 무한 스크롤"
   ]
  },
  {
   "cell_type": "code",
   "execution_count": null,
   "metadata": {},
   "outputs": [],
   "source": [
    "# 무한스크롤\n",
    "# 페이지의 스크롤 높이 받아오기\n",
    "last_height = driver.execute_script(\"return document.body.scrollHeight\")\n",
    "while True:\n",
    "    # 스크롤 끝까지 내리기\n",
    "    driver.execute_script(\"window.scrollTo(0,document.body.scrollHeight)\")\n",
    "\n",
    "    # 현재 스크롤 위치 받아오기\n",
    "    current_height = driver.execute_script(\"return document.body.scrollHeight\")\n",
    "\n",
    "    # 마지막스크롤 = 현재스크롤이면 반복 벗어나기  \n",
    "    if last_height == current_height: break\n",
    "\n",
    "    # 현재 스크롤을 마지막 스크롤로 업데이트 하기\n",
    "    last_height = current_height\n",
    "\n",
    "    time.sleep(1)"
   ]
  },
  {
   "cell_type": "markdown",
   "metadata": {},
   "source": [
    "### +) 댓글 더보기"
   ]
  },
  {
   "cell_type": "code",
   "execution_count": null,
   "metadata": {},
   "outputs": [],
   "source": [
    "from selenium import webdriver\n",
    "from selenium.webdriver.common.by import By\n",
    "from selenium.common.exceptions import NoSuchElementException, StaleElementReferenceException\n",
    "import time\n",
    "\n",
    "def load_all_comments(driver, url):\n",
    "    driver.get(url) # 지정된 URL로 브라우저를 열어 이동\n",
    "    time.sleep(2) # 페이지 로드 대기\n",
    "\n",
    "    while True:\n",
    "        try:\n",
    "            # \"댓글 더보기\" 버튼 찾기\n",
    "            more_comments_button = driver.find_element(By.CSS_SELECTOR, '.u_cbox_in_view_comment')\n",
    "            more_comments_button.click() # \"댓글 더보기\" 버튼 클릭\n",
    "            time.sleep(2) # 댓글 로드 대기\n",
    "        except (NoSuchElementException, StaleElementReferenceException):\n",
    "            # \"댓글 더보기\" 버튼이 더 이상 없거나 요소 참조가 유효하지 않을 경우 반복문 탈출\n",
    "            break\n",
    "\n",
    "# 사용 예시\n",
    "url = \"https://n.news.naver.com/mnews/hotissue/article/028/0002728835?type=series&cid=2001999\" # 네이버 뉴스 기사 URL\n",
    "driver = webdriver.Chrome() # Chrome 웹드라이버 객체 생성\n",
    "\n",
    "load_all_comments(driver, url) # 댓글을 모두 로드하는 함수 호출"
   ]
  }
 ],
 "metadata": {
  "kernelspec": {
   "display_name": "Python 3",
   "language": "python",
   "name": "python3"
  },
  "language_info": {
   "codemirror_mode": {
    "name": "ipython",
    "version": 3
   },
   "file_extension": ".py",
   "mimetype": "text/x-python",
   "name": "python",
   "nbconvert_exporter": "python",
   "pygments_lexer": "ipython3",
   "version": "3.13.1"
  }
 },
 "nbformat": 4,
 "nbformat_minor": 2
}
