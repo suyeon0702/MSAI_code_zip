{
 "cells": [
  {
   "cell_type": "markdown",
   "metadata": {},
   "source": [
    "## 2024-12-19"
   ]
  },
  {
   "cell_type": "markdown",
   "metadata": {},
   "source": [
    "### 파이썬 기본 문법"
   ]
  },
  {
   "cell_type": "code",
   "execution_count": 1,
   "metadata": {},
   "outputs": [
    {
     "name": "stdout",
     "output_type": "stream",
     "text": [
      "Hello python\n"
     ]
    }
   ],
   "source": [
    "print(\"Hello python\")"
   ]
  },
  {
   "cell_type": "code",
   "execution_count": 5,
   "metadata": {},
   "outputs": [
    {
     "name": "stdout",
     "output_type": "stream",
     "text": [
      "Hello Python1\n",
      "Hello Python2\n",
      "Hello Python3\n"
     ]
    }
   ],
   "source": [
    "print(\"Hello Python1\")\n",
    "print(\"Hello Python2\")\n",
    "print(\"Hello Python3\")"
   ]
  },
  {
   "cell_type": "code",
   "execution_count": 6,
   "metadata": {},
   "outputs": [
    {
     "ename": "SyntaxError",
     "evalue": "invalid syntax (2964818882.py, line 1)",
     "output_type": "error",
     "traceback": [
      "\u001b[1;36m  Cell \u001b[1;32mIn[6], line 1\u001b[1;36m\u001b[0m\n\u001b[1;33m    Hello Python\u001b[0m\n\u001b[1;37m          ^\u001b[0m\n\u001b[1;31mSyntaxError\u001b[0m\u001b[1;31m:\u001b[0m invalid syntax\n"
     ]
    }
   ],
   "source": [
    "Hello Python"
   ]
  },
  {
   "cell_type": "code",
   "execution_count": 7,
   "metadata": {},
   "outputs": [
    {
     "ename": "NameError",
     "evalue": "name 'Hello' is not defined",
     "output_type": "error",
     "traceback": [
      "\u001b[1;31m---------------------------------------------------------------------------\u001b[0m",
      "\u001b[1;31mNameError\u001b[0m                                 Traceback (most recent call last)",
      "Cell \u001b[1;32mIn[7], line 1\u001b[0m\n\u001b[1;32m----> 1\u001b[0m \u001b[43mHello\u001b[49m, Python\n",
      "\u001b[1;31mNameError\u001b[0m: name 'Hello' is not defined"
     ]
    }
   ],
   "source": [
    "Hello, Python"
   ]
  },
  {
   "cell_type": "code",
   "execution_count": 8,
   "metadata": {},
   "outputs": [
    {
     "ename": "NameError",
     "evalue": "name 'Python' is not defined",
     "output_type": "error",
     "traceback": [
      "\u001b[1;31m---------------------------------------------------------------------------\u001b[0m",
      "\u001b[1;31mNameError\u001b[0m                                 Traceback (most recent call last)",
      "Cell \u001b[1;32mIn[8], line 2\u001b[0m\n\u001b[0;32m      1\u001b[0m Halo \u001b[38;5;241m=\u001b[39m \u001b[38;5;241m1\u001b[39m\n\u001b[1;32m----> 2\u001b[0m Halo, \u001b[43mPython\u001b[49m\n",
      "\u001b[1;31mNameError\u001b[0m: name 'Python' is not defined"
     ]
    }
   ],
   "source": [
    "Halo = 1\n",
    "Halo, Python"
   ]
  },
  {
   "cell_type": "code",
   "execution_count": 9,
   "metadata": {},
   "outputs": [
    {
     "data": {
      "text/plain": [
       "(1, 2)"
      ]
     },
     "execution_count": 9,
     "metadata": {},
     "output_type": "execute_result"
    }
   ],
   "source": [
    "안녕, Python = 1, 2\n",
    "안녕, Python"
   ]
  },
  {
   "cell_type": "code",
   "execution_count": 10,
   "metadata": {},
   "outputs": [
    {
     "name": "stdout",
     "output_type": "stream",
     "text": [
      "1\n",
      "2\n",
      "3\n"
     ]
    }
   ],
   "source": [
    "print(1)\n",
    "print(2)\n",
    "print(3)"
   ]
  },
  {
   "cell_type": "code",
   "execution_count": 11,
   "metadata": {},
   "outputs": [
    {
     "name": "stdout",
     "output_type": "stream",
     "text": [
      "1\n",
      "2\n",
      "3\n"
     ]
    }
   ],
   "source": [
    "print('1')\n",
    "print('2')\n",
    "print('3')"
   ]
  },
  {
   "cell_type": "code",
   "execution_count": 12,
   "metadata": {},
   "outputs": [
    {
     "name": "stdout",
     "output_type": "stream",
     "text": [
      "3\n",
      "5\n",
      "7\n"
     ]
    }
   ],
   "source": [
    "print(1+2)\n",
    "print(2+3)\n",
    "print(3+4)"
   ]
  },
  {
   "cell_type": "code",
   "execution_count": 13,
   "metadata": {},
   "outputs": [
    {
     "name": "stdout",
     "output_type": "stream",
     "text": [
      "1+2\n",
      "2+3\n",
      "3+4\n"
     ]
    }
   ],
   "source": [
    "print('1+2')\n",
    "print('2+3')\n",
    "print('3+4')"
   ]
  },
  {
   "cell_type": "code",
   "execution_count": 14,
   "metadata": {},
   "outputs": [
    {
     "name": "stdout",
     "output_type": "stream",
     "text": [
      "1\n"
     ]
    }
   ],
   "source": [
    "1+2\n",
    "print(1)"
   ]
  },
  {
   "cell_type": "code",
   "execution_count": 15,
   "metadata": {},
   "outputs": [
    {
     "name": "stdout",
     "output_type": "stream",
     "text": [
      "1\n"
     ]
    },
    {
     "data": {
      "text/plain": [
       "3"
      ]
     },
     "execution_count": 15,
     "metadata": {},
     "output_type": "execute_result"
    }
   ],
   "source": [
    "print(1)\n",
    "1+2"
   ]
  },
  {
   "cell_type": "code",
   "execution_count": 16,
   "metadata": {},
   "outputs": [
    {
     "name": "stdout",
     "output_type": "stream",
     "text": [
      "Hello\n",
      "Python\n",
      "홍길동 나이 = 20 세\n"
     ]
    }
   ],
   "source": [
    "# 프린트문 연습\n",
    "print(\"Hello\")\n",
    "print(\"Python\")\n",
    "print(\"홍길동 나이 = 20 세\")"
   ]
  },
  {
   "cell_type": "code",
   "execution_count": 22,
   "metadata": {},
   "outputs": [
    {
     "name": "stdout",
     "output_type": "stream",
     "text": [
      "Hello\n",
      "Python\n",
      "홍길동 나이 = 20 세\n",
      "홍길동나이=20세\n"
     ]
    }
   ],
   "source": [
    "print(\"Hello\")\n",
    "print(\"Python\")\n",
    "print(\"홍길동\", \"나이 =\", 20, \"세\")\n",
    "print(\"홍길동\"+\"나이=\"+\"20\"+\"세\")"
   ]
  },
  {
   "cell_type": "code",
   "execution_count": 23,
   "metadata": {},
   "outputs": [
    {
     "ename": "SyntaxError",
     "evalue": "unterminated string literal (detected at line 1) (959368848.py, line 1)",
     "output_type": "error",
     "traceback": [
      "\u001b[1;36m  Cell \u001b[1;32mIn[23], line 1\u001b[1;36m\u001b[0m\n\u001b[1;33m    print(\"Nice\u001b[0m\n\u001b[1;37m          ^\u001b[0m\n\u001b[1;31mSyntaxError\u001b[0m\u001b[1;31m:\u001b[0m unterminated string literal (detected at line 1)\n"
     ]
    }
   ],
   "source": [
    "print(\"Nice\n",
    "      to meet you\")"
   ]
  },
  {
   "cell_type": "code",
   "execution_count": 24,
   "metadata": {},
   "outputs": [
    {
     "name": "stdout",
     "output_type": "stream",
     "text": [
      "Nice       to meet you\n"
     ]
    }
   ],
   "source": [
    "print(\"Nice \\\n",
    "      to meet you\")"
   ]
  },
  {
   "cell_type": "code",
   "execution_count": 25,
   "metadata": {},
   "outputs": [
    {
     "ename": "SyntaxError",
     "evalue": "invalid syntax (2655974631.py, line 1)",
     "output_type": "error",
     "traceback": [
      "\u001b[1;36m  Cell \u001b[1;32mIn[25], line 1\u001b[1;36m\u001b[0m\n\u001b[1;33m    print(\"Hello\") print(\"Hello\")\u001b[0m\n\u001b[1;37m                   ^\u001b[0m\n\u001b[1;31mSyntaxError\u001b[0m\u001b[1;31m:\u001b[0m invalid syntax\n"
     ]
    }
   ],
   "source": [
    "print(\"Hello\") print(\"Hello\")"
   ]
  },
  {
   "cell_type": "code",
   "execution_count": 29,
   "metadata": {},
   "outputs": [
    {
     "name": "stdout",
     "output_type": "stream",
     "text": [
      "Hello\n",
      "Python\n"
     ]
    },
    {
     "data": {
      "text/plain": [
       "(None, None)"
      ]
     },
     "execution_count": 29,
     "metadata": {},
     "output_type": "execute_result"
    }
   ],
   "source": [
    "print(\"Hello\"), print(\"Python\")\n",
    "# tuple & 함수의 리턴 타입 None"
   ]
  },
  {
   "cell_type": "code",
   "execution_count": 31,
   "metadata": {},
   "outputs": [
    {
     "name": "stdout",
     "output_type": "stream",
     "text": [
      "Hi*Python\n",
      "HiPython\n",
      "Hi Python\n",
      "HiPython\n"
     ]
    }
   ],
   "source": [
    "print(\"Hi\", \"Python\", sep=\"*\")\n",
    "print(\"Hi\", \"Python\", sep=\"\")\n",
    "print(\"Hi\", \"Python\")\n",
    "print(\"Hi\"+\"Python\")"
   ]
  },
  {
   "cell_type": "code",
   "execution_count": 32,
   "metadata": {},
   "outputs": [
    {
     "name": "stdout",
     "output_type": "stream",
     "text": [
      "Hi Python\n"
     ]
    }
   ],
   "source": [
    "print(\"Hi\", end=' ')\n",
    "print(\"Python\")"
   ]
  },
  {
   "cell_type": "markdown",
   "metadata": {},
   "source": [
    "#### 변수"
   ]
  },
  {
   "cell_type": "code",
   "execution_count": 33,
   "metadata": {},
   "outputs": [
    {
     "name": "stdout",
     "output_type": "stream",
     "text": [
      "홍길동 나이 = 29 세\n"
     ]
    }
   ],
   "source": [
    "name = '홍길동'\n",
    "age = 29\n",
    "\n",
    "print(name, '나이 =', age, '세')"
   ]
  },
  {
   "cell_type": "code",
   "execution_count": 34,
   "metadata": {},
   "outputs": [
    {
     "data": {
      "text/plain": [
       "['False',\n",
       " 'None',\n",
       " 'True',\n",
       " 'and',\n",
       " 'as',\n",
       " 'assert',\n",
       " 'async',\n",
       " 'await',\n",
       " 'break',\n",
       " 'class',\n",
       " 'continue',\n",
       " 'def',\n",
       " 'del',\n",
       " 'elif',\n",
       " 'else',\n",
       " 'except',\n",
       " 'finally',\n",
       " 'for',\n",
       " 'from',\n",
       " 'global',\n",
       " 'if',\n",
       " 'import',\n",
       " 'in',\n",
       " 'is',\n",
       " 'lambda',\n",
       " 'nonlocal',\n",
       " 'not',\n",
       " 'or',\n",
       " 'pass',\n",
       " 'raise',\n",
       " 'return',\n",
       " 'try',\n",
       " 'while',\n",
       " 'with',\n",
       " 'yield']"
      ]
     },
     "execution_count": 34,
     "metadata": {},
     "output_type": "execute_result"
    }
   ],
   "source": [
    "import keyword\n",
    "keyword.kwlist"
   ]
  },
  {
   "cell_type": "code",
   "execution_count": 35,
   "metadata": {},
   "outputs": [
    {
     "name": "stdout",
     "output_type": "stream",
     "text": [
      "지정된 키워드입니다. 변수로 사용이 불가합니다.\n",
      "사용가능한 변수명입니다.\n"
     ]
    }
   ],
   "source": [
    "def is_keyword(word):\n",
    "    if word in keyword.kwlist:\n",
    "        print(\"지정된 키워드입니다. 변수로 사용이 불가합니다.\")\n",
    "    else: print(\"사용가능한 변수명입니다.\")\n",
    "\n",
    "\n",
    "is_keyword(\"False\")\n",
    "is_keyword(\"false\")"
   ]
  },
  {
   "cell_type": "code",
   "execution_count": 36,
   "metadata": {},
   "outputs": [
    {
     "data": {
      "text/plain": [
       "str"
      ]
     },
     "execution_count": 36,
     "metadata": {},
     "output_type": "execute_result"
    }
   ],
   "source": [
    "type(name)"
   ]
  },
  {
   "cell_type": "code",
   "execution_count": 37,
   "metadata": {},
   "outputs": [
    {
     "data": {
      "text/plain": [
       "29"
      ]
     },
     "execution_count": 37,
     "metadata": {},
     "output_type": "execute_result"
    }
   ],
   "source": [
    "name = 29\n",
    "name"
   ]
  },
  {
   "cell_type": "code",
   "execution_count": null,
   "metadata": {},
   "outputs": [],
   "source": [
    "str()\n",
    "int()\n",
    "float()\n",
    "bool()"
   ]
  },
  {
   "cell_type": "code",
   "execution_count": 38,
   "metadata": {},
   "outputs": [
    {
     "data": {
      "text/plain": [
       "True"
      ]
     },
     "execution_count": 38,
     "metadata": {},
     "output_type": "execute_result"
    }
   ],
   "source": [
    "bool('True')"
   ]
  },
  {
   "cell_type": "code",
   "execution_count": 40,
   "metadata": {},
   "outputs": [
    {
     "data": {
      "text/plain": [
       "str"
      ]
     },
     "execution_count": 40,
     "metadata": {},
     "output_type": "execute_result"
    }
   ],
   "source": [
    "type('True')"
   ]
  },
  {
   "cell_type": "code",
   "execution_count": 41,
   "metadata": {},
   "outputs": [
    {
     "data": {
      "text/plain": [
       "bool"
      ]
     },
     "execution_count": 41,
     "metadata": {},
     "output_type": "execute_result"
    }
   ],
   "source": [
    "type(True)"
   ]
  },
  {
   "cell_type": "code",
   "execution_count": 42,
   "metadata": {},
   "outputs": [
    {
     "data": {
      "text/plain": [
       "False"
      ]
     },
     "execution_count": 42,
     "metadata": {},
     "output_type": "execute_result"
    }
   ],
   "source": [
    "bool(0)"
   ]
  },
  {
   "cell_type": "code",
   "execution_count": 43,
   "metadata": {},
   "outputs": [
    {
     "data": {
      "text/plain": [
       "True"
      ]
     },
     "execution_count": 43,
     "metadata": {},
     "output_type": "execute_result"
    }
   ],
   "source": [
    "bool(1)"
   ]
  },
  {
   "cell_type": "code",
   "execution_count": 44,
   "metadata": {},
   "outputs": [
    {
     "data": {
      "text/plain": [
       "False"
      ]
     },
     "execution_count": 44,
     "metadata": {},
     "output_type": "execute_result"
    }
   ],
   "source": [
    "bool('')"
   ]
  },
  {
   "cell_type": "code",
   "execution_count": 45,
   "metadata": {},
   "outputs": [
    {
     "data": {
      "text/plain": [
       "True"
      ]
     },
     "execution_count": 45,
     "metadata": {},
     "output_type": "execute_result"
    }
   ],
   "source": [
    "bool(' ')"
   ]
  },
  {
   "cell_type": "code",
   "execution_count": 46,
   "metadata": {},
   "outputs": [
    {
     "data": {
      "text/plain": [
       "str"
      ]
     },
     "execution_count": 46,
     "metadata": {},
     "output_type": "execute_result"
    }
   ],
   "source": [
    "hello = 'Tree'\n",
    "type(hello)"
   ]
  },
  {
   "cell_type": "code",
   "execution_count": 47,
   "metadata": {},
   "outputs": [
    {
     "data": {
      "text/plain": [
       "bool"
      ]
     },
     "execution_count": 47,
     "metadata": {},
     "output_type": "execute_result"
    }
   ],
   "source": [
    "type(bool(hello))"
   ]
  },
  {
   "cell_type": "code",
   "execution_count": 48,
   "metadata": {},
   "outputs": [
    {
     "data": {
      "text/plain": [
       "bool"
      ]
     },
     "execution_count": 48,
     "metadata": {},
     "output_type": "execute_result"
    }
   ],
   "source": [
    "type(True)"
   ]
  },
  {
   "cell_type": "code",
   "execution_count": 51,
   "metadata": {},
   "outputs": [
    {
     "name": "stdout",
     "output_type": "stream",
     "text": [
      "합: 7\n",
      "차: -1\n",
      "곱: 12\n",
      "나눗셈: 0.75\n",
      "몫: 0\n",
      "나머지: 3\n"
     ]
    }
   ],
   "source": [
    "## 미션\n",
    "\n",
    "a = 3\n",
    "b = 4\n",
    "\n",
    "# To Do: 합, 차, 곱, 나눗셈, 몫, 나머지를 출력해주세요\n",
    "\n",
    "print(\"합:\", a+b)\n",
    "print(\"차:\", a-b)\n",
    "print(\"곱:\", a*b)\n",
    "print(\"나눗셈:\", a/b)\n",
    "print(\"몫:\", a//b)\n",
    "print(\"나머지:\", a%b)"
   ]
  },
  {
   "cell_type": "code",
   "execution_count": 72,
   "metadata": {},
   "outputs": [
    {
     "name": "stdout",
     "output_type": "stream",
     "text": [
      "n => 1, 2, 3, 4\n",
      "n = 1000 + 200 + 30 + 4\n"
     ]
    }
   ],
   "source": [
    "n = 1234\n",
    "\n",
    "# To Do: 각 자리의 숫자를 추출해서 출력\n",
    "\n",
    "print(f\"n => {n//1000}, {n%1000//100}, {n%100//10}, {n%10}\")\n",
    "print(f\"n = {n//1000*1000} + {n%1000//100*100} + {n%100//10*10} + {n%10}\")"
   ]
  },
  {
   "cell_type": "code",
   "execution_count": 75,
   "metadata": {},
   "outputs": [
    {
     "name": "stdout",
     "output_type": "stream",
     "text": [
      "1, 2, 3, 4\n",
      "1, 2, 3, 4\n"
     ]
    }
   ],
   "source": [
    "n = 1234\n",
    "\n",
    "print(\n",
    "    n // 1000,\n",
    "    n % 1000 // 100,\n",
    "    n % 100 // 10,\n",
    "    n % 10\n",
    "    , sep=', '\n",
    ")\n",
    "\n",
    "print(\n",
    "    n // 1000 % 10,\n",
    "    n // 100 % 10,\n",
    "    n // 10 % 10,\n",
    "    n // 1 % 10,\n",
    "    sep=', '\n",
    ")"
   ]
  },
  {
   "cell_type": "code",
   "execution_count": 59,
   "metadata": {},
   "outputs": [
    {
     "name": "stdout",
     "output_type": "stream",
     "text": [
      "12345600 원\n"
     ]
    }
   ],
   "source": [
    "# 업그레이드미션 1\n",
    "pay = 12345678 # 12345678원\n",
    "\n",
    "# To do: 100미만 절사 처리\n",
    "\n",
    "print(pay//100*100, \"원\")"
   ]
  },
  {
   "cell_type": "code",
   "execution_count": 62,
   "metadata": {},
   "outputs": [
    {
     "name": "stdout",
     "output_type": "stream",
     "text": [
      "4\n"
     ]
    }
   ],
   "source": [
    "# 업그레이드미션 2\n",
    "# To Do: 변수 a에 저장된 값의 b자리 값을 계산하여 변수 c에 저장하는 코드를 설계하라.\n",
    "# 예를 들어 a에 1234가 저장되어 있고 b가 1일 경우 첫 번째 자리값인 4가 c에 저장된다.\n",
    "# a가 1234일때 b가 4일 경우는 4번째 자리값인 1이 c에 저장되어야 한다.\n",
    "\n",
    "a = 1234\n",
    "b = 1\n",
    "\n",
    "c = a%(b*10)//b\n",
    "\n",
    "print(c)"
   ]
  },
  {
   "cell_type": "code",
   "execution_count": 77,
   "metadata": {},
   "outputs": [
    {
     "ename": "SyntaxError",
     "evalue": "expression cannot contain assignment, perhaps you meant \"==\"? (223710091.py, line 1)",
     "output_type": "error",
     "traceback": [
      "\u001b[1;36m  Cell \u001b[1;32mIn[77], line 1\u001b[1;36m\u001b[0m\n\u001b[1;33m    print( 5 = 2)\u001b[0m\n\u001b[1;37m           ^\u001b[0m\n\u001b[1;31mSyntaxError\u001b[0m\u001b[1;31m:\u001b[0m expression cannot contain assignment, perhaps you meant \"==\"?\n"
     ]
    }
   ],
   "source": [
    "print( 5 = 2)"
   ]
  },
  {
   "cell_type": "code",
   "execution_count": 78,
   "metadata": {},
   "outputs": [
    {
     "name": "stdout",
     "output_type": "stream",
     "text": [
      "True\n",
      "True\n",
      "False\n"
     ]
    }
   ],
   "source": [
    "print(bool(5 and 6))\n",
    "print(bool(5 or 6))\n",
    "print(bool(not 6))"
   ]
  },
  {
   "cell_type": "code",
   "execution_count": 79,
   "metadata": {},
   "outputs": [
    {
     "name": "stdout",
     "output_type": "stream",
     "text": [
      "True\n",
      "True\n",
      "False\n"
     ]
    }
   ],
   "source": [
    "print((3 < 5) and (3 > 0))\n",
    "print((4 < 7) or (5 > 8))\n",
    "print(not(5 < 9))"
   ]
  },
  {
   "cell_type": "code",
   "execution_count": 80,
   "metadata": {},
   "outputs": [
    {
     "name": "stdout",
     "output_type": "stream",
     "text": [
      "helloPython\n",
      "hellohellohello\n",
      "5\n"
     ]
    }
   ],
   "source": [
    "head = 'hello'\n",
    "tail = 'Python'\n",
    "\n",
    "print(head+tail)\n",
    "print(head*3)\n",
    "print(len(head))"
   ]
  },
  {
   "cell_type": "code",
   "execution_count": 85,
   "metadata": {},
   "outputs": [
    {
     "name": "stdout",
     "output_type": "stream",
     "text": [
      "17\n",
      "14\n"
     ]
    }
   ],
   "source": [
    "sample_str = \"Life is too short\"\n",
    "\n",
    "print(len(sample_str))\n",
    "print(len(sample_str.replace(' ', '')))"
   ]
  },
  {
   "cell_type": "code",
   "execution_count": 84,
   "metadata": {},
   "outputs": [
    {
     "name": "stdout",
     "output_type": "stream",
     "text": [
      "'낮말'은 새가 듣고 '밤말'은 쥐가 듣는다.\n"
     ]
    }
   ],
   "source": [
    "print(\"\\'낮말\\'은 새가 듣고 \\'밤말\\'은 쥐가 듣는다.\")"
   ]
  },
  {
   "cell_type": "code",
   "execution_count": 87,
   "metadata": {},
   "outputs": [
    {
     "name": "stdout",
     "output_type": "stream",
     "text": [
      "t\n",
      "h\n",
      "h\n"
     ]
    }
   ],
   "source": [
    "print(sample_str[8])\n",
    "print(sample_str[-4])\n",
    "print(sample_str[13])"
   ]
  },
  {
   "cell_type": "code",
   "execution_count": 88,
   "metadata": {},
   "outputs": [
    {
     "name": "stdout",
     "output_type": "stream",
     "text": [
      "too\n"
     ]
    }
   ],
   "source": [
    "print(sample_str[8]+sample_str[9]+sample_str[10])"
   ]
  },
  {
   "cell_type": "code",
   "execution_count": 93,
   "metadata": {},
   "outputs": [
    {
     "name": "stdout",
     "output_type": "stream",
     "text": [
      "Life is too short\n",
      "Lf stosot\n",
      "iei o hr\n",
      "Lesosr\n",
      "Lior\n"
     ]
    }
   ],
   "source": [
    "print(sample_str[:])\n",
    "print(sample_str[::2])\n",
    "print(sample_str[1::2])\n",
    "print(sample_str[::3])\n",
    "print(sample_str[::5])"
   ]
  },
  {
   "cell_type": "code",
   "execution_count": 95,
   "metadata": {},
   "outputs": [
    {
     "name": "stdout",
     "output_type": "stream",
     "text": [
      "fine\n"
     ]
    }
   ],
   "source": [
    "sample_str2 = \"Life is too short, You need Python\"\n",
    "print(sample_str2[2]+sample_str2[5]+sample_str2[23:25])"
   ]
  },
  {
   "cell_type": "code",
   "execution_count": 105,
   "metadata": {},
   "outputs": [
    {
     "name": "stdout",
     "output_type": "stream",
     "text": [
      "Supersonic\n"
     ]
    }
   ],
   "source": [
    "print(sample_str2[6].upper()+sample_str2[21]+sample_str2[-6].lower()+sample_str2[3]+sample_str2[15]\n",
    "      + sample_str2[6]+sample_str2[9]+sample_str2[23]+sample_str2[5]+'c')"
   ]
  },
  {
   "cell_type": "markdown",
   "metadata": {},
   "source": [
    "#### 사용자입력"
   ]
  },
  {
   "cell_type": "code",
   "execution_count": 96,
   "metadata": {},
   "outputs": [
    {
     "name": "stdout",
     "output_type": "stream",
     "text": [
      "당신의 이름은 김수연입니다\n"
     ]
    }
   ],
   "source": [
    "name = input()\n",
    "\n",
    "print('당신의 이름은 ' + name + '입니다')"
   ]
  },
  {
   "cell_type": "code",
   "execution_count": 102,
   "metadata": {},
   "outputs": [
    {
     "name": "stdout",
     "output_type": "stream",
     "text": [
      "주어진 정수: 1, 3\n",
      "1 + 3 = 4\n"
     ]
    }
   ],
   "source": [
    "## 미션\n",
    "# 사용자로부터 두 개의 정수를 입력 받아서\n",
    "# 덧셈을 출력하는 프로그램을 만들어주세요\n",
    "\n",
    "a, b = map(int, input(\"정수 두 개를 입력하세요: \").split(' '))\n",
    "print(f\"주어진 정수: {a}, {b}\")\n",
    "print(f'{a} + {b} = {a+b}')"
   ]
  },
  {
   "cell_type": "code",
   "execution_count": 100,
   "metadata": {},
   "outputs": [
    {
     "name": "stdout",
     "output_type": "stream",
     "text": [
      "밑변 =  4 \n",
      "높이 =  5\n",
      "삼각형의 넓이 =  10.0\n"
     ]
    }
   ],
   "source": [
    "# 업그레이드 미션 1\n",
    "# 삼각형의 넓이 구하기\n",
    "# 사용자에게 삼각형의 밑변과 높이를 입력 받아\n",
    "# 삼각형의 넓이를 출력하는 코드를 작성하세요.\n",
    "\n",
    "wid, hei = map(int, input(\"삼각형의 밑변과 높이를 입력하세요: \").split(' '))\n",
    "print(\"밑변 = \", wid, \"\\n높이 = \", hei)\n",
    "print(\"삼각형의 넓이 = \", wid*hei/2)"
   ]
  },
  {
   "cell_type": "code",
   "execution_count": 103,
   "metadata": {},
   "outputs": [
    {
     "name": "stdout",
     "output_type": "stream",
     "text": [
      "지불하실 금액은 14500원입니다.\n"
     ]
    }
   ],
   "source": [
    "# 업그레이드 미션 2\n",
    "# 분식 주문 프로그램\n",
    "# 메뉴판은 아래와 같다.\n",
    "# 메뉴별 주문 개수를 입력 받아 지불할 금액을 자동으로 계산해주는 프로그램을 작성하시요.\n",
    "\"\"\"\n",
    "    [메뉴판]\n",
    "\n",
    "    김밥: 3,000원\n",
    "    떡볶이: 3,500원\n",
    "    라면: 2,500원    \n",
    "\n",
    "\"\"\"\n",
    "\n",
    "kimbap_cnt = int(input(\"김밥주문갯수: \"))\n",
    "tteok_cnt = int(input(\"떡볶이주문갯수: \"))\n",
    "ramen_cnt = int(input(\"라면주문갯수: \"))\n",
    "\n",
    "kimbap_price = 3000\n",
    "tteok_price = 3500\n",
    "ramen_price = 2500\n",
    "\n",
    "total_bill = kimbap_cnt*kimbap_price + tteok_cnt*tteok_price + ramen_cnt*ramen_price\n",
    "\n",
    "print(f\"지불하실 금액은 {total_bill}원입니다.\")"
   ]
  },
  {
   "cell_type": "markdown",
   "metadata": {},
   "source": [
    "#### f-string"
   ]
  },
  {
   "cell_type": "code",
   "execution_count": 107,
   "metadata": {},
   "outputs": [
    {
     "name": "stdout",
     "output_type": "stream",
     "text": [
      "100 * 234 = 23,400\n"
     ]
    }
   ],
   "source": [
    "# 두 수를 입력받아 곱 계산\n",
    "# format() 함수 이용, 계산결과 천단위 쉼표(,) 표시\n",
    "\n",
    "a = int(input(\"첫 번째 정수 입력: \"))\n",
    "b = int(input(\"두 번째 정수 입력: \"))\n",
    "\n",
    "print('{0} * {1} = {2:,}'.format(a,b,a*b))"
   ]
  },
  {
   "cell_type": "code",
   "execution_count": 106,
   "metadata": {},
   "outputs": [
    {
     "name": "stdout",
     "output_type": "stream",
     "text": [
      "1000.12 * 2000.457 = 2,000,703.65\n"
     ]
    }
   ],
   "source": [
    "# 두 수를 입력받아 곱 계산\n",
    "# f-string 이용\n",
    "\n",
    "a = float(input(\"첫 번째 값 입력: \"))\n",
    "b = float(input(\"두 번째 값 입력: \"))\n",
    "\n",
    "print(f'{a:.2f} * {b:.3f} = {a*b:,.2f}')"
   ]
  },
  {
   "cell_type": "code",
   "execution_count": 115,
   "metadata": {},
   "outputs": [
    {
     "name": "stdout",
     "output_type": "stream",
     "text": [
      "반지름: 150.7cm\n",
      "원의 둘레: 946.4cm\n",
      "원의 넓이: 71,309.0cm²\n"
     ]
    }
   ],
   "source": [
    "# 도전\n",
    "# 반지름 실수값을 입력 받아, 원의 둘레와 넓이 계산\n",
    "# 소숫점 이하 1자리로 표시, 원의 넓이는 천단위 쉼표(,) 표시\n",
    "# f-string 이용\n",
    "\n",
    "r = float(input(\"반지름 입력(cm): \"))\n",
    "\n",
    "print(f\"반지름: {r:.1f}cm\")\n",
    "print(f\"원의 둘레: {2*3.14*r:.1f}cm\")\n",
    "print(f\"원의 넓이: {3.14*r*r:,.1f}cm²\")"
   ]
  },
  {
   "cell_type": "markdown",
   "metadata": {},
   "source": [
    "#### 조건문"
   ]
  },
  {
   "cell_type": "code",
   "execution_count": 118,
   "metadata": {},
   "outputs": [
    {
     "name": "stdout",
     "output_type": "stream",
     "text": [
      "짝수입니다.\n"
     ]
    }
   ],
   "source": [
    "# 홀수 짝수 구분하기\n",
    "num = int(input('숫자를 입력하세요: '))\n",
    "\n",
    "if num%2 == 1: print(\"홀수입니다.\")\n",
    "elif num%2 == 0: print(\"짝수입니다.\")"
   ]
  },
  {
   "cell_type": "code",
   "execution_count": 121,
   "metadata": {},
   "outputs": [
    {
     "name": "stdout",
     "output_type": "stream",
     "text": [
      "점수: 87\n",
      "B\n"
     ]
    }
   ],
   "source": [
    "# 도전\n",
    "# 기본 미션\n",
    "\n",
    "score = int(input(\"점수를 입력하세요: \"))\n",
    "\n",
    "print(\"점수:\", score)\n",
    "\n",
    "if score >= 90: print(\"A\")\n",
    "elif score >= 80: print(\"B\")\n",
    "elif score >= 70: print(\"C\")\n",
    "elif score >= 60: print(\"D\")\n",
    "else: print(\"F\")"
   ]
  },
  {
   "cell_type": "code",
   "execution_count": 131,
   "metadata": {},
   "outputs": [
    {
     "name": "stdout",
     "output_type": "stream",
     "text": [
      "BMI 지수는 \"21.91\"로 \"정상체중\"입니다.\n"
     ]
    }
   ],
   "source": [
    "# 미션2\n",
    "# 키와 몸무게를 입력받다, BMI 지수를 계산하고 비만유무를 출력하는 프로그램을 작성하세요.\n",
    "\n",
    "hei = int(input(\"키 입력(cm): \"))\n",
    "wei = int(input(\"몸무게 입력(kg) : \"))\n",
    "\n",
    "hei_m = hei / 100\n",
    "bmi = wei / (hei_m*hei_m)\n",
    "\n",
    "status = \"\"\n",
    "if bmi >= 25:\n",
    "    status = \"비만\"\n",
    "elif bmi >= 23:\n",
    "    status = \"과체중\"\n",
    "elif bmi >= 18.5:\n",
    "    status = \"정상체중\"\n",
    "else:\n",
    "    status = \"저체중\"\n",
    "\n",
    "print(f\"BMI 지수는 \\\"{bmi:.2f}\\\"로 \\\"{status}\\\"입니다.\")"
   ]
  },
  {
   "cell_type": "code",
   "execution_count": 128,
   "metadata": {},
   "outputs": [
    {
     "name": "stdout",
     "output_type": "stream",
     "text": [
      "출생연도: 1998 / 나이: 27\n",
      "수\n"
     ]
    }
   ],
   "source": [
    "# 미션3\n",
    "# 출생 연도 끝자리와 나이를 입력하여 마스크 구매 가능한 요일을 출력하세요.\n",
    "\n",
    "year = int(input(\"출생연도를 입력하세요(ex. 1998): \"))\n",
    "age = int(input(\"나이를 입력하세요: \"))\n",
    "\n",
    "end_number_of_year = year%10\n",
    "\n",
    "print(f\"출생연도: {year} / 나이: {age}\")\n",
    "\n",
    "if age >= 65:\n",
    "    print(\"월, 화, 수, 목, 금\")\n",
    "else:\n",
    "    if end_number_of_year in [1, 6]:\n",
    "        print(\"월\")\n",
    "    elif end_number_of_year in [2, 7]:\n",
    "        print(\"화\")\n",
    "    elif end_number_of_year in [3, 8]:\n",
    "        print(\"수\")\n",
    "    elif end_number_of_year in [4, 9]:\n",
    "        print(\"목\")\n",
    "    elif end_number_of_year in [5, 0]:\n",
    "        print(\"금\")    \n",
    "\n"
   ]
  },
  {
   "cell_type": "code",
   "execution_count": 133,
   "metadata": {},
   "outputs": [
    {
     "name": "stdout",
     "output_type": "stream",
     "text": [
      "홀수 차량 운행날입니다.\n",
      "운행 가능합니다.\n"
     ]
    }
   ],
   "source": [
    "# 미션4?\n",
    "# 차량 2부제(홀짝제) 실시로, 차량번호가 홀수이면 홀수날, 짝수이면 짝수날 운행가능\n",
    "# 일(Day)과 차량번호 입력하여 운행 여부를 출력\n",
    "# - 일(day): 1~31 이외의 값이 입력되면 오류 메시지 출력하고 프로그램 종료\n",
    "# - 차량번호: 4자리가 입력되지 않으면 오류 메시지 출력하고 프로그램 종료\n",
    "\n",
    "day = int(input(\"오늘은 몇 일?(1~31): \"))\n",
    "if day < 1 or day > 31:\n",
    "    print(\"일(day) 입력 오류입니다.\")\n",
    "else:\n",
    "    car_num = int(input(\"차량번호 4자리 입력?(예: 1234): \"))\n",
    "    if len(str(car_num)) != 4:\n",
    "        print(\"차량번호 입력 오류입니다.\")\n",
    "    else:\n",
    "        if day%2 == 0:\n",
    "            print(\"짝수 차량 운행날입니다.\")\n",
    "            if car_num%2 == 0:\n",
    "                print(\"운행 가능합니다.\")\n",
    "            else:\n",
    "                print(\"운행 불가합니다.\")\n",
    "        else:\n",
    "            print(\"홀수 차량 운행날입니다.\")\n",
    "            if car_num%2 == 0:\n",
    "                print(\"운행 불가합니다.\")\n",
    "            else:\n",
    "                print(\"운행 가능합니다.\")\n"
   ]
  },
  {
   "cell_type": "code",
   "execution_count": 6,
   "metadata": {},
   "outputs": [
    {
     "name": "stdout",
     "output_type": "stream",
     "text": [
      "홀수 차량 운행날입니다.\n",
      "운행 불가합니다.\n"
     ]
    }
   ],
   "source": [
    "# +) XOR 사용\n",
    "\n",
    "day = int(input(\"오늘은 몇 일?(1~31): \"))\n",
    "if day < 1 or day > 31:\n",
    "    print(\"일(day) 입력 오류입니다.\")\n",
    "else:\n",
    "    car_num = int(input(\"차량번호 4자리 입력?(예: 1234): \"))\n",
    "    if len(str(car_num)) != 4:\n",
    "        print(\"차량번호 입력 오류입니다.\")\n",
    "    else:\n",
    "        is_even_day = day%2 == 0\n",
    "        is_even_num = car_num%2 == 0\n",
    "        if is_even_day:\n",
    "            print(\"짝수 차량 운행날입니다.\")\n",
    "        else:\n",
    "            print(\"홀수 차량 운행날입니다.\")\n",
    "        if (not is_even_day or is_even_num) and (is_even_day or not is_even_num): # NOR 구현 # ((~c)| d) & (c |(~d))\n",
    "            print(\"운행 가능합니다.\")\n",
    "        else:\n",
    "            print(\"운행 불가합니다.\")"
   ]
  },
  {
   "cell_type": "markdown",
   "metadata": {},
   "source": [
    "## 12/20"
   ]
  },
  {
   "cell_type": "code",
   "execution_count": 4,
   "metadata": {},
   "outputs": [
    {
     "name": "stdout",
     "output_type": "stream",
     "text": [
      "해리 님 안녕하세요?\n",
      "오늘로 11회 방문하셨어요.\n"
     ]
    }
   ],
   "source": [
    "# 떠올리기\n",
    "\n",
    "name = input(\"이름을 입력하세요: \")\n",
    "cnt = int(input(\"방문 횟수를 입력하세요: \"))\n",
    "\n",
    "print(f\"{name} 님 안녕하세요?\")\n",
    "print(f\"오늘로 {cnt+1}회 방문하셨어요.\")"
   ]
  },
  {
   "cell_type": "markdown",
   "metadata": {},
   "source": [
    "- 번외: 마크다운에 이미지 넣기\n",
    "\n",
    "![이미지 이름](이미지의 URL/이미지이름.확장자명(jpg 또는 png))\n",
    "\n",
    "![산타앙몬드](산타앙몬드.jpg)"
   ]
  },
  {
   "cell_type": "code",
   "execution_count": 31,
   "metadata": {},
   "outputs": [
    {
     "name": "stdout",
     "output_type": "stream",
     "text": [
      "성별: 남자\n",
      "출생년도: 1999\n",
      "월: 12\n",
      "일: 25\n",
      "생년월일: 991225\n",
      "주민등록번호 뒷자리: 1234567\n"
     ]
    }
   ],
   "source": [
    "jumin = '991225-1234567'\n",
    "\n",
    "# 성별\n",
    "if int(jumin[7]) in [1, 3]:\n",
    "    sex = \"남자\"\n",
    "elif int(jumin[7]) in [2, 4]:\n",
    "    sex = \"여자\"\n",
    "else:\n",
    "    print(\"잘못된 입력입니다.\")\n",
    "# 출생년도\n",
    "year_00 = jumin[:2]\n",
    "if int(jumin[7]) in [1, 2]:\n",
    "    year = 1900 + int(year_00)\n",
    "elif int(jumin[7]) in [3, 4]:\n",
    "    year = 2000 + int(year_00)\n",
    "else:\n",
    "    print(\"잘못된 입력입니다.\")\n",
    "# 월\n",
    "month_00 = jumin[2:4]\n",
    "month = int(month_00)\n",
    "# 일\n",
    "day_00 = jumin[4:6]\n",
    "day = int(day_00)\n",
    "# 생년월일\n",
    "front_part = jumin[:6]\n",
    "# 주민등록번호 뒷자리\n",
    "end_part = jumin[7:]\n",
    "\n",
    "\n",
    "print(\"성별:\", sex)\n",
    "print(\"출생년도:\", year)\n",
    "print(\"월:\", month)\n",
    "print(\"일:\", day)\n",
    "print(\"생년월일:\", front_part)\n",
    "print(\"주민등록번호 뒷자리:\", end_part)"
   ]
  },
  {
   "cell_type": "code",
   "execution_count": 14,
   "metadata": {},
   "outputs": [
    {
     "name": "stdout",
     "output_type": "stream",
     "text": [
      "역삼역 도어읽 로꾸거 역삼역 도어읽 로으앞 .다니입역삼역 ,역삼역 은역번이\n",
      "역삼역 도어읽 로꾸거 역삼역 도어읽 로으앞 .다니입역삼역 ,역삼역 은역번이 \n"
     ]
    }
   ],
   "source": [
    "# 역삼역 스위치\n",
    "\n",
    "string = \" 이번역은 역삼역, 역삼역입니다. 앞으로 읽어도 역삼역 거꾸로 읽어도 역삼역\" \n",
    "\n",
    "# ToDo: YOUR_CODE_HERE \n",
    "# (1) 슬라이싱 이용\n",
    "print(string[::-1])\n",
    "print()\n",
    "# (2) 반복문 이용\n",
    "for i in range(len(string)-1, 0, -1):\n",
    "    print(string[i], end='')"
   ]
  },
  {
   "cell_type": "code",
   "execution_count": null,
   "metadata": {},
   "outputs": [
    {
     "name": "stdout",
     "output_type": "stream",
     "text": [
      "아이디 혹은 비밀번호가 잘못 입력되었습니다.\n"
     ]
    }
   ],
   "source": [
    "# 떠올리기\n",
    "# 아이디와 패스워드를 통해 로그인하는 시스템 구현하기\n",
    "\n",
    "user_id = 'admin'\n",
    "user_pw = '1234'\n",
    "\n",
    "# To Do\n",
    "id_input = input(\"아이디를 입력하세요: \")\n",
    "pw_input  = input(\"패스워드를 입력하세요: \")\n",
    "\n",
    "is_right_id = (id_input == user_id)\n",
    "is_right_pw = (pw_input == user_pw)\n",
    "\n",
    "if is_right_id and is_right_pw:\n",
    "    print(\"로그인되었습니다.\")\n",
    "else:\n",
    "    print(\"아이디 혹은 비밀번호가 잘못 입력되었습니다.\")\n",
    "    if not is_right_id and is_right_pw:\n",
    "        print(\"*Hint: 아이디를 다시 입력해주세요.\")\n",
    "    elif is_right_id and not is_right_pw:\n",
    "        print(\"*Hint: 패스워드를 다시 입력해주세요.\")"
   ]
  },
  {
   "cell_type": "markdown",
   "metadata": {},
   "source": [
    "#### 반복문"
   ]
  },
  {
   "cell_type": "code",
   "execution_count": 34,
   "metadata": {},
   "outputs": [
    {
     "name": "stdout",
     "output_type": "stream",
     "text": [
      "0번째 출력: Hello Python\n",
      "1번째 출력: Hello Python\n",
      "2번째 출력: Hello Python\n",
      "3번째 출력: Hello Python\n",
      "4번째 출력: Hello Python\n",
      "반복문 종료\n"
     ]
    }
   ],
   "source": [
    "# 반복문\n",
    "i = 0 \n",
    "while i < 5:\n",
    "    print(f\"{i}번째 출력: Hello Python\")\n",
    "    i += 1\n",
    "print(\"반복문 종료\")"
   ]
  },
  {
   "cell_type": "code",
   "execution_count": 33,
   "metadata": {},
   "outputs": [
    {
     "name": "stdout",
     "output_type": "stream",
     "text": [
      "1번째 출력: Hello Python\n",
      "2번째 출력: Hello Python\n",
      "3번째 출력: Hello Python\n",
      "4번째 출력: Hello Python\n",
      "5번째 출력: Hello Python\n",
      "반복문 종료\n"
     ]
    }
   ],
   "source": [
    "i = 0\n",
    "while i < 5:\n",
    "    i += 1\n",
    "    print(f\"{i}번째 출력: Hello Python\")\n",
    "print(\"반복문 종료\")"
   ]
  },
  {
   "cell_type": "code",
   "execution_count": 37,
   "metadata": {},
   "outputs": [
    {
     "name": "stdout",
     "output_type": "stream",
     "text": [
      "1 2 3 4 5 6 7 8 9 10 11 12 13 14 15 16 17 18 19 20 \n",
      "반복문 종료\n"
     ]
    }
   ],
   "source": [
    "# 1부터 20까지 출력하기로 변경해주세요\n",
    "i = 0\n",
    "while i < 20: \n",
    "    i += 1\n",
    "    print(i, end=' ')\n",
    "print()\n",
    "print(\"반복문 종료\")"
   ]
  },
  {
   "cell_type": "code",
   "execution_count": 40,
   "metadata": {},
   "outputs": [
    {
     "name": "stdout",
     "output_type": "stream",
     "text": [
      "1부터 4까지의 합은 10 입니다.\n",
      "1부터 4까지의 곱은 24 입니다.\n",
      "1부터 4까지의 짝수 합은 6 입니다.\n"
     ]
    }
   ],
   "source": [
    "# 도전\n",
    "# 사용자로부터 정수값을 입력받아\n",
    "# 1부터 입력받은 숫자까지의 합 구하기\n",
    "\n",
    "endValue = int(input(\"합을 원하는 정수값 입력: \"))\n",
    "\n",
    "i = 0\n",
    "result_sum = 0\n",
    "result_mul = 1\n",
    "result_even_sum = 0\n",
    "while i < endValue:\n",
    "    i += 1\n",
    "    result_sum += i\n",
    "    result_mul *= i\n",
    "    if i%2 == 0:\n",
    "        result_even_sum += i\n",
    "print(f\"1부터 {endValue}까지의 합은 {result_sum:,} 입니다.\")\n",
    "print(f\"1부터 {endValue}까지의 곱은 {result_mul:,} 입니다.\")\n",
    "print(f\"1부터 {endValue}까지의 짝수 합은 {result_even_sum:,} 입니다.\")\n",
    "\n",
    "\n"
   ]
  },
  {
   "cell_type": "code",
   "execution_count": 41,
   "metadata": {},
   "outputs": [
    {
     "name": "stdout",
     "output_type": "stream",
     "text": [
      "\n",
      "1. Add\n",
      "2. Del\n",
      "3. Quit\n",
      "\n",
      "\n",
      "1. Add\n",
      "2. Del\n",
      "3. Quit\n",
      "\n",
      "\n",
      "1. Add\n",
      "2. Del\n",
      "3. Quit\n",
      "\n"
     ]
    }
   ],
   "source": [
    "prompt = \"\"\"\n",
    "1. Add\n",
    "2. Del\n",
    "3. Quit\n",
    "\n",
    "Enter number: \n",
    "\"\"\"\n",
    "\n",
    "input_num = 0\n",
    "\n",
    "while input_num != 3:\n",
    "    print(prompt)\n",
    "    input_num = int(input())"
   ]
  },
  {
   "cell_type": "code",
   "execution_count": 5,
   "metadata": {},
   "outputs": [
    {
     "name": "stdout",
     "output_type": "stream",
     "text": [
      "0\n",
      "2\n",
      "4\n",
      "6\n",
      "\n",
      "2\n",
      "3\n",
      "4\n",
      "5\n",
      "6\n",
      "7\n"
     ]
    }
   ],
   "source": [
    "# for 반복문\n",
    "\n",
    "for i in range(0, 8, 2):\n",
    "    print(i)\n",
    "\n",
    "print()\n",
    "\n",
    "for i in range(2, 8):\n",
    "    print(i)"
   ]
  },
  {
   "cell_type": "code",
   "execution_count": 6,
   "metadata": {},
   "outputs": [
    {
     "name": "stdout",
     "output_type": "stream",
     "text": [
      "10\n",
      "9\n",
      "8\n",
      "7\n",
      "6\n",
      "5\n",
      "4\n",
      "3\n",
      "2\n",
      "1\n",
      "\n",
      "0\n",
      "1\n",
      "2\n",
      "3\n",
      "4\n"
     ]
    }
   ],
   "source": [
    "for i in range(10, 0, -1):\n",
    "    print(i)\n",
    "\n",
    "print()\n",
    "\n",
    "for i in range(5):\n",
    "    print(i)"
   ]
  },
  {
   "cell_type": "code",
   "execution_count": 4,
   "metadata": {},
   "outputs": [
    {
     "name": "stdout",
     "output_type": "stream",
     "text": [
      "1부터 4까지의 합은 10 입니다.\n",
      "1부터 4까지의 곱은 24 입니다.\n",
      "1부터 4까지의 짝수 합은 6 입니다.\n"
     ]
    }
   ],
   "source": [
    "# 사용자로부터 정수값을 입력받아 1부터 입력받은 숫자까지의 합을 구해봅시다.\n",
    "# for 문과 range()함수를 사용해서 1부터 입력받은 숫자까지의 합을 구해봅시다.\n",
    "endValue = int(input('정수값 입력: '))\n",
    "\n",
    "result_sum = 0\n",
    "result_mul = 1\n",
    "result_even_sum = 0\n",
    "\n",
    "for i in range(1, endValue+1):\n",
    "    result_sum += i\n",
    "    result_mul *= i\n",
    "    if i%2 == 0:\n",
    "        result_even_sum += i\n",
    "\n",
    "print(f\"1부터 {endValue}까지의 합은 {result_sum:,} 입니다.\")\n",
    "print(f\"1부터 {endValue}까지의 곱은 {result_mul:,} 입니다.\")\n",
    "print(f\"1부터 {endValue}까지의 짝수 합은 {result_even_sum:,} 입니다.\")"
   ]
  },
  {
   "cell_type": "code",
   "execution_count": null,
   "metadata": {},
   "outputs": [
    {
     "name": "stdout",
     "output_type": "stream",
     "text": [
      "*** 16 단 ***\n",
      "16 * 1 = 16\n",
      "16 * 2 = 32\n",
      "16 * 3 = 48\n",
      "16 * 4 = 64\n",
      "16 * 5 = 80\n",
      "16 * 6 = 96\n",
      "16 * 7 = 112\n",
      "16 * 8 = 128\n",
      "16 * 9 = 144\n",
      "\n",
      "*** 16 단 ***\n",
      "16 * 1 =  16\n",
      "16 * 2 =  32\n",
      "16 * 3 =  48\n",
      "16 * 4 =  64\n",
      "16 * 5 =  80\n",
      "16 * 6 =  96\n",
      "16 * 7 = 112\n",
      "16 * 8 = 128\n",
      "16 * 9 = 144\n"
     ]
    }
   ],
   "source": [
    "# 사용자로부터 입력받은 숫자에 해당하는 구구단을 출력\n",
    "# range()함수, for 문\n",
    "\n",
    "dan = int(input(\"출력할 단 입력: \"))\n",
    "\n",
    "print(f\"*** {dan} 단 ***\")\n",
    "for i in range(1, 10):\n",
    "    print(f\"{dan} * {i} = {dan*i}\")\n",
    "\n",
    "\n",
    "print()\n",
    "\n",
    "print(f\"*** {dan} 단 ***\")\n",
    "for i in range(1, 10):\n",
    "    print(f\"{dan} * {i} = {dan*i:3}\") # 3자리수까지 공백"
   ]
  },
  {
   "cell_type": "code",
   "execution_count": null,
   "metadata": {},
   "outputs": [
    {
     "name": "stdout",
     "output_type": "stream",
     "text": [
      "*** 16 단 ***\n",
      "16 * 1 = 16\n",
      "16 * 2 = 32\n",
      "16 * 3 = 48\n",
      "16 * 4 = 64\n",
      "16 * 5 = 80\n",
      "16 * 6 = 96\n",
      "16 * 7 = 112\n",
      "16 * 8 = 128\n",
      "16 * 9 = 144\n",
      "\n",
      "*** 16 단 ***\n",
      "16 * 1 =  16\n",
      "16 * 2 =  32\n",
      "16 * 3 =  48\n",
      "16 * 4 =  64\n",
      "16 * 5 =  80\n",
      "16 * 6 =  96\n",
      "16 * 7 = 112\n",
      "16 * 8 = 128\n",
      "16 * 9 = 144\n"
     ]
    }
   ],
   "source": [
    "# while\n",
    "\n",
    "dan = int(input(\"출력할 단 입력: \"))\n",
    "\n",
    "print(f\"*** {dan} 단 ***\")\n",
    "i = 0\n",
    "while i < 9:\n",
    "    i += 1\n",
    "    print(f\"{dan} * {i} = {dan*i}\")\n",
    "\n",
    "print()\n",
    "\n",
    "print(f\"*** {dan} 단 ***\")\n",
    "i = 0\n",
    "while i < 9:\n",
    "    i += 1\n",
    "    print(f\"{dan} * {i} = {dan*i:>3}\") # 오른쪽 정렬렬"
   ]
  },
  {
   "cell_type": "code",
   "execution_count": 12,
   "metadata": {},
   "outputs": [
    {
     "name": "stdout",
     "output_type": "stream",
     "text": [
      "2*1=2\t3*1=3\t4*1=4\t5*1=5\t6*1=6\t7*1=7\t8*1=8\t9*1=9\t\n",
      "2*2=4\t3*2=6\t4*2=8\t5*2=10\t6*2=12\t7*2=14\t8*2=16\t9*2=18\t\n",
      "2*3=6\t3*3=9\t4*3=12\t5*3=15\t6*3=18\t7*3=21\t8*3=24\t9*3=27\t\n",
      "2*4=8\t3*4=12\t4*4=16\t5*4=20\t6*4=24\t7*4=28\t8*4=32\t9*4=36\t\n",
      "2*5=10\t3*5=15\t4*5=20\t5*5=25\t6*5=30\t7*5=35\t8*5=40\t9*5=45\t\n",
      "2*6=12\t3*6=18\t4*6=24\t5*6=30\t6*6=36\t7*6=42\t8*6=48\t9*6=54\t\n",
      "2*7=14\t3*7=21\t4*7=28\t5*7=35\t6*7=42\t7*7=49\t8*7=56\t9*7=63\t\n",
      "2*8=16\t3*8=24\t4*8=32\t5*8=40\t6*8=48\t7*8=56\t8*8=64\t9*8=72\t\n",
      "2*9=18\t3*9=27\t4*9=36\t5*9=45\t6*9=54\t7*9=63\t8*9=72\t9*9=81\t\n"
     ]
    }
   ],
   "source": [
    "for j in range(1, 10):\n",
    "    for i in range(2, 10):\n",
    "        print(f\"{i}*{j}={i*j}\", end='\\t')\n",
    "    print()"
   ]
  },
  {
   "cell_type": "markdown",
   "metadata": {},
   "source": [
    "## 2024-12-23"
   ]
  },
  {
   "cell_type": "code",
   "execution_count": 2,
   "metadata": {},
   "outputs": [
    {
     "name": "stdout",
     "output_type": "stream",
     "text": [
      "4 8 12 16 20 24 28 32 36 "
     ]
    }
   ],
   "source": [
    "for su in range(1, 10):\n",
    "    print(4*su, end=\" \")"
   ]
  },
  {
   "cell_type": "code",
   "execution_count": 7,
   "metadata": {},
   "outputs": [
    {
     "name": "stdout",
     "output_type": "stream",
     "text": [
      " 2  4  6  8 10 12 14 16 18 \n",
      " 3  6  9 12 15 18 21 24 27 \n",
      " 4  8 12 16 20 24 28 32 36 \n",
      " 5 10 15 20 25 30 35 40 45 \n",
      " 6 12 18 24 30 36 42 48 54 \n",
      " 7 14 21 28 35 42 49 56 63 \n",
      " 8 16 24 32 40 48 56 64 72 \n",
      " 9 18 27 36 45 54 63 72 81 \n"
     ]
    }
   ],
   "source": [
    "for i in range(2, 10):\n",
    "    for j in range(1, 10):\n",
    "        print(f\"{i*j:2d}\", end=' ')\n",
    "    print()"
   ]
  },
  {
   "cell_type": "code",
   "execution_count": 17,
   "metadata": {},
   "outputs": [
    {
     "name": "stdout",
     "output_type": "stream",
     "text": [
      "Price: 300원\n",
      "Input: 300원\n",
      "Here's your coffee! (left: 2개)\n",
      "change: 0원\n",
      "--------------------\n",
      "Price: 300원\n",
      "Input: 200원\n",
      "Insert More Coins! (left: 2개)\n",
      "change: 200원\n",
      "--------------------\n",
      "Price: 300원\n",
      "Input: 400원\n",
      "Here's your coffee! (left: 1개)\n",
      "change: 100원\n",
      "--------------------\n",
      "Price: 300원\n",
      "Input: 500원\n",
      "Here's your coffee! (left: 0개)\n",
      "change: 200원\n",
      "--------------------\n",
      "Sold Out\n"
     ]
    }
   ],
   "source": [
    "# 떠올리기 - 자판기 동작 만들어보기\n",
    "\n",
    "stock = 3\n",
    "price = 300\n",
    "\n",
    "while 1:\n",
    "    if stock == 0:\n",
    "        print(\"Sold Out\")\n",
    "        break\n",
    "    \n",
    "    print(\"Price: 300원\")\n",
    "    user_input = int(input(\"Insert Coin: \"))\n",
    "    print(f\"Input: {user_input}원\")\n",
    "    is_enough_money = (user_input >= price)\n",
    "\n",
    "    if is_enough_money:\n",
    "        stock -= 1\n",
    "        change = user_input - price\n",
    "        print(f\"Here's your coffee! (left: {stock}개)\")\n",
    "        print(f\"change: {change}원\")\n",
    "    else:\n",
    "        print(f\"Insert More Coins! (left: {stock}개)\")\n",
    "        print(f\"change: {user_input}원\")\n",
    "    \n",
    "    print('--------------------')"
   ]
  },
  {
   "cell_type": "markdown",
   "metadata": {},
   "source": [
    "#### 딕셔너리"
   ]
  },
  {
   "cell_type": "code",
   "execution_count": 29,
   "metadata": {},
   "outputs": [
    {
     "name": "stdout",
     "output_type": "stream",
     "text": [
      "<class 'dict'>\n"
     ]
    }
   ],
   "source": [
    "menu = {'김밥': 2000, '라면': 3000, '돈까스': 5000}\n",
    "print(type(menu))"
   ]
  },
  {
   "cell_type": "code",
   "execution_count": 30,
   "metadata": {},
   "outputs": [
    {
     "data": {
      "text/plain": [
       "2000"
      ]
     },
     "execution_count": 30,
     "metadata": {},
     "output_type": "execute_result"
    }
   ],
   "source": [
    "menu['김밥']"
   ]
  },
  {
   "cell_type": "code",
   "execution_count": 31,
   "metadata": {},
   "outputs": [
    {
     "data": {
      "text/plain": [
       "{'김밥': 2500, '라면': 3000, '돈까스': 5000}"
      ]
     },
     "execution_count": 31,
     "metadata": {},
     "output_type": "execute_result"
    }
   ],
   "source": [
    "menu['김밥'] = 2500\n",
    "menu"
   ]
  },
  {
   "cell_type": "code",
   "execution_count": 32,
   "metadata": {},
   "outputs": [
    {
     "data": {
      "text/plain": [
       "{'김밥': 2500, '라면': 3000, '돈까스': 5000, '떡볶이': 3000}"
      ]
     },
     "execution_count": 32,
     "metadata": {},
     "output_type": "execute_result"
    }
   ],
   "source": [
    "menu['떡볶이'] = 3000\n",
    "menu"
   ]
  },
  {
   "cell_type": "code",
   "execution_count": 33,
   "metadata": {},
   "outputs": [
    {
     "ename": "KeyError",
     "evalue": "'로제떡볶이'",
     "output_type": "error",
     "traceback": [
      "\u001b[1;31m---------------------------------------------------------------------------\u001b[0m",
      "\u001b[1;31mKeyError\u001b[0m                                  Traceback (most recent call last)",
      "Cell \u001b[1;32mIn[33], line 1\u001b[0m\n\u001b[1;32m----> 1\u001b[0m \u001b[43mmenu\u001b[49m\u001b[43m[\u001b[49m\u001b[38;5;124;43m'\u001b[39;49m\u001b[38;5;124;43m로제떡볶이\u001b[39;49m\u001b[38;5;124;43m'\u001b[39;49m\u001b[43m]\u001b[49m\n",
      "\u001b[1;31mKeyError\u001b[0m: '로제떡볶이'"
     ]
    }
   ],
   "source": [
    "menu['로제떡볶이']"
   ]
  },
  {
   "cell_type": "code",
   "execution_count": 24,
   "metadata": {},
   "outputs": [
    {
     "data": {
      "text/plain": [
       "dict_keys(['김밥', '라면', '돈까스', '떡볶이'])"
      ]
     },
     "execution_count": 24,
     "metadata": {},
     "output_type": "execute_result"
    }
   ],
   "source": [
    "menu.keys()"
   ]
  },
  {
   "cell_type": "code",
   "execution_count": 25,
   "metadata": {},
   "outputs": [
    {
     "data": {
      "text/plain": [
       "dict_values([2500, 3000, 5000, 3000])"
      ]
     },
     "execution_count": 25,
     "metadata": {},
     "output_type": "execute_result"
    }
   ],
   "source": [
    "menu.values()"
   ]
  },
  {
   "cell_type": "code",
   "execution_count": 26,
   "metadata": {},
   "outputs": [
    {
     "data": {
      "text/plain": [
       "dict_items([('김밥', 2500), ('라면', 3000), ('돈까스', 5000), ('떡볶이', 3000)])"
      ]
     },
     "execution_count": 26,
     "metadata": {},
     "output_type": "execute_result"
    }
   ],
   "source": [
    "menu.items()"
   ]
  },
  {
   "cell_type": "code",
   "execution_count": 35,
   "metadata": {},
   "outputs": [
    {
     "name": "stdout",
     "output_type": "stream",
     "text": [
      "김밥\n",
      "라면\n",
      "돈까스\n",
      "떡볶이\n"
     ]
    }
   ],
   "source": [
    "for item in menu.keys():\n",
    "    print(item)"
   ]
  },
  {
   "cell_type": "code",
   "execution_count": 37,
   "metadata": {},
   "outputs": [
    {
     "name": "stdout",
     "output_type": "stream",
     "text": [
      "2500\n",
      "3000\n",
      "5000\n",
      "3000\n"
     ]
    }
   ],
   "source": [
    "for price in menu.values():\n",
    "    print(price)"
   ]
  },
  {
   "cell_type": "code",
   "execution_count": 40,
   "metadata": {},
   "outputs": [
    {
     "name": "stdout",
     "output_type": "stream",
     "text": [
      "dict_keys(['김밥', '라면', '돈까스', '떡볶이'])\n",
      "['김밥', '라면', '돈까스', '떡볶이']\n"
     ]
    }
   ],
   "source": [
    "print(menu.keys())\n",
    "print(list(menu.keys()))"
   ]
  },
  {
   "cell_type": "code",
   "execution_count": 46,
   "metadata": {},
   "outputs": [
    {
     "name": "stdout",
     "output_type": "stream",
     "text": [
      "dict_items([('김밥', 2500), ('라면', 3000), ('돈까스', 5000), ('떡볶이', 3000)])\n",
      "[('김밥', 2500), ('라면', 3000), ('돈까스', 5000), ('떡볶이', 3000)]\n"
     ]
    }
   ],
   "source": [
    "print(menu.items())\n",
    "print(list(menu.items()))"
   ]
  },
  {
   "cell_type": "code",
   "execution_count": 41,
   "metadata": {},
   "outputs": [
    {
     "data": {
      "text/plain": [
       "{'김밥': 2500, '라면': 3000, '돈까스': 5000, '떡볶이': 3000}"
      ]
     },
     "execution_count": 41,
     "metadata": {},
     "output_type": "execute_result"
    }
   ],
   "source": [
    "menu"
   ]
  },
  {
   "cell_type": "code",
   "execution_count": 47,
   "metadata": {},
   "outputs": [
    {
     "data": {
      "text/plain": [
       "('떡볶이', 3000)"
      ]
     },
     "execution_count": 47,
     "metadata": {},
     "output_type": "execute_result"
    }
   ],
   "source": [
    "menu.popitem() # 뒤에꺼"
   ]
  },
  {
   "cell_type": "code",
   "execution_count": 50,
   "metadata": {},
   "outputs": [
    {
     "data": {
      "text/plain": [
       "2500"
      ]
     },
     "execution_count": 50,
     "metadata": {},
     "output_type": "execute_result"
    }
   ],
   "source": [
    "menu.pop('김밥')"
   ]
  },
  {
   "cell_type": "code",
   "execution_count": 51,
   "metadata": {},
   "outputs": [
    {
     "data": {
      "text/plain": [
       "{'라면': 3000, '돈까스': 5000}"
      ]
     },
     "execution_count": 51,
     "metadata": {},
     "output_type": "execute_result"
    }
   ],
   "source": [
    "menu"
   ]
  },
  {
   "cell_type": "code",
   "execution_count": 52,
   "metadata": {},
   "outputs": [
    {
     "name": "stdout",
     "output_type": "stream",
     "text": [
      "라면 3000\n",
      "돈까스 5000\n"
     ]
    }
   ],
   "source": [
    "for key, value in menu.items():\n",
    "    print(key, value)"
   ]
  },
  {
   "cell_type": "code",
   "execution_count": 54,
   "metadata": {},
   "outputs": [
    {
     "name": "stdout",
     "output_type": "stream",
     "text": [
      "None\n",
      "3000\n"
     ]
    }
   ],
   "source": [
    "print(menu.get('김밥'))\n",
    "print(menu.get('라면'))"
   ]
  },
  {
   "cell_type": "code",
   "execution_count": 55,
   "metadata": {},
   "outputs": [],
   "source": [
    "a_list = [3, 'hello', [4, 5, 6], {'a': 1, 'b': 2}]"
   ]
  },
  {
   "cell_type": "code",
   "execution_count": 3,
   "metadata": {},
   "outputs": [
    {
     "name": "stdout",
     "output_type": "stream",
     "text": [
      "1. 영어 과제\n",
      "********************\n",
      "1. 영어 과제\n",
      "2. 강아지 산책\n",
      "********************\n",
      "메뉴 선택 오류입니다. 다시 선택하세요.\n",
      "1. 강아지 산책\n",
      "********************\n",
      "메뉴 선택 오류입니다. 다시 선택하세요.\n",
      "프로그램을 종료합니다.\n"
     ]
    }
   ],
   "source": [
    "# 도전\n",
    "# [문제1] \"오늘의 할일\"을 관리하는 프로그램을 만들어보세요 *리스트 이용\n",
    "\n",
    "todo_list = []\n",
    "\n",
    "while 1:\n",
    "    user_input_num = int(input(\"▶ 메뉴 선택(1:추가, 2:삭제, 0:종료)?: \"))\n",
    "\n",
    "    add_mode = (user_input_num == 1)\n",
    "    delete_mode = (user_input_num == 2)\n",
    "    finish_mode = (user_input_num == 0)\n",
    "\n",
    "    if not (add_mode or delete_mode or finish_mode):\n",
    "        print(\"메뉴 선택 오류입니다. 다시 선택하세요.\")\n",
    "        continue\n",
    "    \n",
    "    if finish_mode:\n",
    "        print(\"프로그램을 종료합니다.\")\n",
    "        break\n",
    "\n",
    "    user_input_todo = input(\"*할 일 내용 입력: \")\n",
    "    \n",
    "    if add_mode:\n",
    "        todo_num = len(todo_list)+1\n",
    "        todo_list.append(user_input_todo)\n",
    "        for i in range(len(todo_list)):\n",
    "            print(f\"{i+1}. {todo_list[i]}\")\n",
    "        print(\"*\"*20)\n",
    "    elif delete_mode:\n",
    "        todo_list.pop(todo_list.index(user_input_todo))\n",
    "        for i in range(len(todo_list)):\n",
    "            print(f\"{i+1}. {todo_list[i]}\")\n",
    "        print(\"*\"*20)\n"
   ]
  },
  {
   "cell_type": "code",
   "execution_count": 23,
   "metadata": {},
   "outputs": [
    {
     "name": "stdout",
     "output_type": "stream",
     "text": [
      "백지헌의 연락처 추가!\n",
      "\n",
      "검색 가능한 연락처: ['강호동', '차은우', '송하영', '백지헌']\n",
      "송하영의 연락처: 010-1111-1111\n",
      "\n",
      "검색 가능한 연락처: ['강호동', '차은우', '송하영', '백지헌']\n",
      "연락처를 찾을 수 없습니다.\n",
      "\n",
      "삭제 가능한 연락처: ['강호동', '차은우', '송하영', '백지헌']\n",
      "강호동의 연락처가 삭제되었습니다.\n",
      "\n",
      "삭제 가능한 연락처: ['차은우', '송하영', '백지헌']\n",
      "삭제가 취소되었습니다.\n",
      "\n",
      "메뉴 선택 오류입니다. 다시 선택하세요.\n",
      "프로그램을 종료합니다.\n"
     ]
    }
   ],
   "source": [
    "# [문제2] \"전화번호 검색 프로그램\"을 다음과 같이 만들어보세요 *딕셔너리 이용\n",
    "\n",
    "addr_dict = {'강호동': '010-1234-5678',\n",
    "             '차은우': '010-1234-1234',\n",
    "             '송하영': '010-1111-1111'}\n",
    "\n",
    "while 1:\n",
    "    user_input_num = int(input(\"▶ 메뉴 선택(1:추가, 2:검색, 3:삭제, 0:종료)?: \"))\n",
    "\n",
    "    add_mode = (user_input_num == 1)\n",
    "    search_mode = (user_input_num == 2)\n",
    "    delete_mode = (user_input_num == 3)\n",
    "    finish_mode = (user_input_num == 0)\n",
    "\n",
    "    if not (add_mode or search_mode or delete_mode or finish_mode):\n",
    "        print(\"메뉴 선택 오류입니다. 다시 선택하세요.\")\n",
    "        continue\n",
    "\n",
    "    if finish_mode:\n",
    "        print(\"프로그램을 종료합니다.\")\n",
    "        break\n",
    "    \n",
    "    if add_mode: \n",
    "        user_input_name = input(\"이름 입력 >> \")\n",
    "        user_input_pnum = input(\"전화번호 입력 >> \")\n",
    "        addr_dict[user_input_name] = user_input_pnum\n",
    "        print(f\"{user_input_name}의 연락처 추가!\")\n",
    "    \n",
    "    elif search_mode:\n",
    "        addr_name_list = list(addr_dict.keys())\n",
    "        print(\"검색 가능한 연락처:\", addr_name_list)\n",
    "        user_input_name = input(\"이름 입력 >> \")\n",
    "        search_result = addr_dict.get(user_input_name)\n",
    "        if search_result: print(f\"{user_input_name}의 연락처: {search_result}\")\n",
    "        else: print(\"연락처를 찾을 수 없습니다.\")\n",
    "\n",
    "    elif delete_mode:\n",
    "        addr_name_list = list(addr_dict.keys())\n",
    "        print(\"삭제 가능한 연락처:\", addr_name_list)\n",
    "        user_input_name = input(\"이름 입력 >> \")\n",
    "        final_check = input(\"정말로 삭제하시겠습니까?(Y/N): \")\n",
    "        if final_check in [\"Y\", \"y\"]:\n",
    "            del(addr_dict[user_input_name])\n",
    "            print(f\"{user_input_name}의 연락처가 삭제되었습니다.\")\n",
    "        elif final_check in [\"N\", \"n\"]:\n",
    "            print(\"삭제가 취소되었습니다.\")\n",
    "    \n",
    "    print()\n"
   ]
  },
  {
   "cell_type": "code",
   "execution_count": 8,
   "metadata": {},
   "outputs": [
    {
     "name": "stdout",
     "output_type": "stream",
     "text": [
      "파이썬 용어 사전\n",
      "입력단어 -> 'python' is: a high-level programming language\n",
      "입력단어 -> 'apple is: 사전에 찾는 단어가 없어요!\n",
      "입력단어 -> 'loop' is: a sequence of instructions that are continually repeated\n",
      "종료!\n"
     ]
    }
   ],
   "source": [
    "# 딕셔너리 업그레이드 미션\n",
    "\n",
    "python_word_dict = {\n",
    "    'python': 'a high-level programming language',\n",
    "    'loop': 'a sequence of instructions that are continually repeated'\n",
    "}\n",
    "\n",
    "print(\"파이썬 용어 사전\")\n",
    "while 1:\n",
    "    user_input = input(\"검색할 단어를 입력해주세요(종료를 원할시 enter를 눌러주세요): \")\n",
    "\n",
    "    if not user_input:\n",
    "        print(\"종료!\")\n",
    "        break\n",
    "    else:\n",
    "        meaning = python_word_dict.get(user_input)\n",
    "        if meaning:\n",
    "            print(f\"입력단어 -> '{user_input}' is: {meaning}\")\n",
    "        else:\n",
    "            print(f\"입력단어 -> '{user_input} is: 사전에 찾는 단어가 없어요!\")"
   ]
  },
  {
   "cell_type": "code",
   "execution_count": 14,
   "metadata": {},
   "outputs": [
    {
     "name": "stdout",
     "output_type": "stream",
     "text": [
      "Alice 평균: 89.0\n",
      "Bob 평균: 82.0\n",
      "Charlie 평균: 92.0\n",
      "\n",
      "전체 평균: 87.66666666666667\n",
      "\n",
      "90점 이상인 학생 명단: ['Alice', 'Charlie']\n"
     ]
    }
   ],
   "source": [
    "# 리스트 딕셔너리 업그레이드 미션\n",
    "\n",
    "score_dict = {\n",
    "    'Alice': [90, 85, 92],\n",
    "    'Bob': [78, 80, 88],\n",
    "    'Charlie': [95, 92, 89]\n",
    "}\n",
    "\n",
    "avg_list = []\n",
    "over_90_list = []\n",
    "for name, score_list in score_dict.items():\n",
    "    avg = sum(score_list)/len(score_list)\n",
    "    print(f\"{name} 평균: {avg:.1f}\")\n",
    "    avg_list.append(avg)\n",
    "\n",
    "    # 성적이 90 이상인 학생들(출력 예시로 봤을 때 90점 이상이 하나라도 있는 친구 출력)\n",
    "    for score in score_list:\n",
    "        is_over_90 = False\n",
    "        if score >= 90:\n",
    "            is_over_90 = True\n",
    "            break\n",
    "    if is_over_90:\n",
    "        over_90_list.append(name)\n",
    "\n",
    "print(f\"\\n전체 평균: {sum(avg_list)/len(avg_list)}\")\n",
    "print()\n",
    "print(f\"90점 이상인 학생 명단: {over_90_list}\")\n",
    "\n"
   ]
  },
  {
   "cell_type": "code",
   "execution_count": 20,
   "metadata": {},
   "outputs": [
    {
     "name": "stdout",
     "output_type": "stream",
     "text": [
      "Alice [90, 85, 92]\n",
      "True\n",
      "Bob [78, 80, 88]\n",
      "False\n",
      "Charlie [95, 92, 89]\n",
      "True\n"
     ]
    }
   ],
   "source": [
    "# list any\n",
    "for name, score_list in score_dict.items():\n",
    "    print(name, score_list)\n",
    "    print(any(score >= 90 for score in score_list))"
   ]
  },
  {
   "cell_type": "code",
   "execution_count": null,
   "metadata": {},
   "outputs": [],
   "source": [
    "# 번외 # 아래 버전으로 다시\n",
    "students = [\n",
    "    {'name': 'Alice', 'grades': [90, 85, 92]},\n",
    "    {'name': 'Bob', 'grades': [78, 80, 88]},\n",
    "    {'name': 'Charlie', 'grades': [95, 92, 89]}\n",
    "]"
   ]
  },
  {
   "cell_type": "markdown",
   "metadata": {},
   "source": [
    "#### 함수"
   ]
  },
  {
   "cell_type": "code",
   "execution_count": 24,
   "metadata": {},
   "outputs": [
    {
     "data": {
      "text/plain": [
       "<module 'builtins' (built-in)>"
      ]
     },
     "execution_count": 24,
     "metadata": {},
     "output_type": "execute_result"
    }
   ],
   "source": [
    "# 내장함수\n",
    "__builtins__"
   ]
  },
  {
   "cell_type": "code",
   "execution_count": 26,
   "metadata": {},
   "outputs": [
    {
     "data": {
      "text/plain": [
       "['ArithmeticError',\n",
       " 'AssertionError',\n",
       " 'AttributeError',\n",
       " 'BaseException',\n",
       " 'BaseExceptionGroup',\n",
       " 'BlockingIOError',\n",
       " 'BrokenPipeError',\n",
       " 'BufferError',\n",
       " 'BytesWarning',\n",
       " 'ChildProcessError',\n",
       " 'ConnectionAbortedError',\n",
       " 'ConnectionError',\n",
       " 'ConnectionRefusedError',\n",
       " 'ConnectionResetError',\n",
       " 'DeprecationWarning',\n",
       " 'EOFError',\n",
       " 'Ellipsis',\n",
       " 'EncodingWarning',\n",
       " 'EnvironmentError',\n",
       " 'Exception',\n",
       " 'ExceptionGroup',\n",
       " 'False',\n",
       " 'FileExistsError',\n",
       " 'FileNotFoundError',\n",
       " 'FloatingPointError',\n",
       " 'FutureWarning',\n",
       " 'GeneratorExit',\n",
       " 'IOError',\n",
       " 'ImportError',\n",
       " 'ImportWarning',\n",
       " 'IndentationError',\n",
       " 'IndexError',\n",
       " 'InterruptedError',\n",
       " 'IsADirectoryError',\n",
       " 'KeyError',\n",
       " 'KeyboardInterrupt',\n",
       " 'LookupError',\n",
       " 'MemoryError',\n",
       " 'ModuleNotFoundError',\n",
       " 'NameError',\n",
       " 'None',\n",
       " 'NotADirectoryError',\n",
       " 'NotImplemented',\n",
       " 'NotImplementedError',\n",
       " 'OSError',\n",
       " 'OverflowError',\n",
       " 'PendingDeprecationWarning',\n",
       " 'PermissionError',\n",
       " 'ProcessLookupError',\n",
       " 'PythonFinalizationError',\n",
       " 'RecursionError',\n",
       " 'ReferenceError',\n",
       " 'ResourceWarning',\n",
       " 'RuntimeError',\n",
       " 'RuntimeWarning',\n",
       " 'StopAsyncIteration',\n",
       " 'StopIteration',\n",
       " 'SyntaxError',\n",
       " 'SyntaxWarning',\n",
       " 'SystemError',\n",
       " 'SystemExit',\n",
       " 'TabError',\n",
       " 'TimeoutError',\n",
       " 'True',\n",
       " 'TypeError',\n",
       " 'UnboundLocalError',\n",
       " 'UnicodeDecodeError',\n",
       " 'UnicodeEncodeError',\n",
       " 'UnicodeError',\n",
       " 'UnicodeTranslateError',\n",
       " 'UnicodeWarning',\n",
       " 'UserWarning',\n",
       " 'ValueError',\n",
       " 'Warning',\n",
       " 'WindowsError',\n",
       " 'ZeroDivisionError',\n",
       " '_IncompleteInputError',\n",
       " '__IPYTHON__',\n",
       " '__build_class__',\n",
       " '__debug__',\n",
       " '__doc__',\n",
       " '__import__',\n",
       " '__loader__',\n",
       " '__name__',\n",
       " '__package__',\n",
       " '__spec__',\n",
       " 'abs',\n",
       " 'aiter',\n",
       " 'all',\n",
       " 'anext',\n",
       " 'any',\n",
       " 'ascii',\n",
       " 'bin',\n",
       " 'bool',\n",
       " 'breakpoint',\n",
       " 'bytearray',\n",
       " 'bytes',\n",
       " 'callable',\n",
       " 'chr',\n",
       " 'classmethod',\n",
       " 'compile',\n",
       " 'complex',\n",
       " 'copyright',\n",
       " 'credits',\n",
       " 'delattr',\n",
       " 'dict',\n",
       " 'dir',\n",
       " 'display',\n",
       " 'divmod',\n",
       " 'enumerate',\n",
       " 'eval',\n",
       " 'exec',\n",
       " 'execfile',\n",
       " 'filter',\n",
       " 'float',\n",
       " 'format',\n",
       " 'frozenset',\n",
       " 'get_ipython',\n",
       " 'getattr',\n",
       " 'globals',\n",
       " 'hasattr',\n",
       " 'hash',\n",
       " 'help',\n",
       " 'hex',\n",
       " 'id',\n",
       " 'input',\n",
       " 'int',\n",
       " 'isinstance',\n",
       " 'issubclass',\n",
       " 'iter',\n",
       " 'len',\n",
       " 'license',\n",
       " 'list',\n",
       " 'locals',\n",
       " 'map',\n",
       " 'max',\n",
       " 'memoryview',\n",
       " 'min',\n",
       " 'next',\n",
       " 'object',\n",
       " 'oct',\n",
       " 'open',\n",
       " 'ord',\n",
       " 'pow',\n",
       " 'print',\n",
       " 'property',\n",
       " 'range',\n",
       " 'repr',\n",
       " 'reversed',\n",
       " 'round',\n",
       " 'runfile',\n",
       " 'set',\n",
       " 'setattr',\n",
       " 'slice',\n",
       " 'sorted',\n",
       " 'staticmethod',\n",
       " 'str',\n",
       " 'sum',\n",
       " 'super',\n",
       " 'tuple',\n",
       " 'type',\n",
       " 'vars',\n",
       " 'zip']"
      ]
     },
     "execution_count": 26,
     "metadata": {},
     "output_type": "execute_result"
    }
   ],
   "source": [
    "dir(__builtins__)"
   ]
  },
  {
   "cell_type": "markdown",
   "metadata": {},
   "source": [
    "#### 사용자 정의 함수"
   ]
  },
  {
   "cell_type": "code",
   "execution_count": 27,
   "metadata": {},
   "outputs": [],
   "source": [
    "def Hi():\n",
    "    print(\"Hi\")"
   ]
  },
  {
   "cell_type": "code",
   "execution_count": 28,
   "metadata": {},
   "outputs": [
    {
     "name": "stdout",
     "output_type": "stream",
     "text": [
      "Hi\n"
     ]
    }
   ],
   "source": [
    "Hi()"
   ]
  },
  {
   "cell_type": "code",
   "execution_count": 29,
   "metadata": {},
   "outputs": [
    {
     "name": "stdout",
     "output_type": "stream",
     "text": [
      "<function Hi at 0x0000019B9C482F20>\n"
     ]
    }
   ],
   "source": [
    "print(Hi) # 함수의 시작 주소 # 함수를 표시할 수 있는 handler랄까 "
   ]
  },
  {
   "cell_type": "code",
   "execution_count": 30,
   "metadata": {},
   "outputs": [
    {
     "name": "stdout",
     "output_type": "stream",
     "text": [
      "나꼬야 Hi\n"
     ]
    }
   ],
   "source": [
    "def NameHi(friend):\n",
    "    print(f\"{friend}야 Hi\")\n",
    "\n",
    "NameHi(\"나꼬\")"
   ]
  },
  {
   "cell_type": "code",
   "execution_count": 31,
   "metadata": {},
   "outputs": [
    {
     "name": "stdout",
     "output_type": "stream",
     "text": [
      "Hi\n"
     ]
    }
   ],
   "source": [
    "def HiReturn():\n",
    "    return 'Hi'\n",
    "\n",
    "b = HiReturn()\n",
    "print(b)"
   ]
  },
  {
   "cell_type": "code",
   "execution_count": 32,
   "metadata": {},
   "outputs": [
    {
     "data": {
      "text/plain": [
       "7"
      ]
     },
     "execution_count": 32,
     "metadata": {},
     "output_type": "execute_result"
    }
   ],
   "source": [
    "def add(a, b):\n",
    "    return a+b\n",
    "\n",
    "add(3, 4)"
   ]
  },
  {
   "cell_type": "code",
   "execution_count": 35,
   "metadata": {},
   "outputs": [
    {
     "data": {
      "text/plain": [
       "12"
      ]
     },
     "execution_count": 35,
     "metadata": {},
     "output_type": "execute_result"
    }
   ],
   "source": [
    "# 세 개의 숫자를 입력받아 가장 큰 수를 출력하는 num_max 함수를 정의\n",
    "\n",
    "def num_max(a, b, c):\n",
    "    # return max(a, b, c)\n",
    "    value = 0\n",
    "    if a >= b: value = a\n",
    "    else: value = b\n",
    "        \n",
    "    if value >= c: pass\n",
    "    else: value = c\n",
    "\n",
    "    return value\n",
    "\n",
    "num = num_max(10, 12, 7)\n",
    "num"
   ]
  },
  {
   "cell_type": "code",
   "execution_count": 36,
   "metadata": {},
   "outputs": [
    {
     "data": {
      "text/plain": [
       "24"
      ]
     },
     "execution_count": 36,
     "metadata": {},
     "output_type": "execute_result"
    }
   ],
   "source": [
    "# 숫자들의 배열을 입력하면 가장 작은 값을 구하는 함수\n",
    "\n",
    "def GetMinNumber(arr):\n",
    "    # 내장 함수 안 쓰고 해보기\n",
    "    min_num = arr[0]\n",
    "    for num in arr:\n",
    "        if num < min_num:\n",
    "            min_num = num\n",
    "    return min_num\n",
    "\n",
    "testArray = [52, 273, 32, 103, 275, 24, 57]\n",
    "GetMinNumber(testArray)"
   ]
  },
  {
   "cell_type": "code",
   "execution_count": 37,
   "metadata": {},
   "outputs": [
    {
     "name": "stdout",
     "output_type": "stream",
     "text": [
      "2\n",
      "10\n",
      "12\n"
     ]
    }
   ],
   "source": [
    "# 하나의 리스트를 입력 받아 짝수만 화면에 출력하는 print_even 함수를 정의\n",
    "\n",
    "def print_even(my_list):\n",
    "    for num in my_list:\n",
    "        if num%2 == 0:\n",
    "            print(num)\n",
    "\n",
    "print_even([1, 3, 2, 10, 12, 11, 15])"
   ]
  },
  {
   "cell_type": "code",
   "execution_count": 44,
   "metadata": {},
   "outputs": [
    {
     "name": "stdout",
     "output_type": "stream",
     "text": [
      "2022년은 윤년일까? False\n",
      "2010년은 윤년일까? False\n",
      "2000년은 윤년일까? True\n",
      "1900년은 윤년일까? False\n"
     ]
    }
   ],
   "source": [
    "# 윤년을 확인하는 함수 만들기\n",
    "# 4로 나누어 떨어지는 해는 윤년\n",
    "# 100으로 나누어 떨어지는 해는 윤년이 아님\n",
    "# 400으로 나누어 떨어지는 해는 윤년\n",
    "\n",
    "def isLeapYear(year):\n",
    "    is_4n = (year%4 == 0)\n",
    "    is_100n = (year%100 == 0)\n",
    "    is_400n = (year%400 == 0)\n",
    "\n",
    "    return is_4n and not is_100n or is_400n\n",
    "\n",
    "print(f'2022년은 윤년일까? {isLeapYear(2022)}')\n",
    "print(f'2010년은 윤년일까? {isLeapYear(2010)}')\n",
    "print(f'2000년은 윤년일까? {isLeapYear(2000)}')\n",
    "print(f'1900년은 윤년일까? {isLeapYear(1900)}')"
   ]
  },
  {
   "cell_type": "code",
   "execution_count": 43,
   "metadata": {},
   "outputs": [
    {
     "data": {
      "text/plain": [
       "True"
      ]
     },
     "execution_count": 43,
     "metadata": {},
     "output_type": "execute_result"
    }
   ],
   "source": [
    "def isLeapYear2(year):\n",
    "    return year % 4 == 0 and year % 100 != 0 or year % 400 == 0\n",
    "\n",
    "isLeapYear2(2000)"
   ]
  },
  {
   "cell_type": "code",
   "execution_count": 49,
   "metadata": {},
   "outputs": [
    {
     "data": {
      "text/plain": [
       "55"
      ]
     },
     "execution_count": 49,
     "metadata": {},
     "output_type": "execute_result"
    }
   ],
   "source": [
    "# 여러 개의 입력 값을 받는 함수 만들기\n",
    "def add_many(*args):\n",
    "    # 내장 함수 안 쓰기\n",
    "    s = 0\n",
    "    for num in args:\n",
    "        s += num\n",
    "    return s\n",
    "\n",
    "add_many(1, 2)\n",
    "add_many(1, 2, 3, 4, 5, 6, 7, 8, 9, 10)"
   ]
  },
  {
   "cell_type": "code",
   "execution_count": 51,
   "metadata": {},
   "outputs": [
    {
     "name": "stdout",
     "output_type": "stream",
     "text": [
      "15\n",
      "120\n"
     ]
    }
   ],
   "source": [
    "def add_mul(opt, *args):\n",
    "    s = 0\n",
    "    m = 1\n",
    "    if opt == 'add':\n",
    "        for num in args:\n",
    "            s += num\n",
    "        return s\n",
    "    if opt == 'mul':\n",
    "        for num in args:\n",
    "            m *= num\n",
    "        return m\n",
    "\n",
    "print(add_mul('add', 1, 2, 3, 4, 5))\n",
    "print(add_mul('mul', 1, 2, 3, 4, 5))"
   ]
  },
  {
   "cell_type": "code",
   "execution_count": 53,
   "metadata": {},
   "outputs": [
    {
     "name": "stdout",
     "output_type": "stream",
     "text": [
      "(13, 7, 30, 3)\n"
     ]
    }
   ],
   "source": [
    "# 두 수를 받아 합, 차, 곱, 몫을 리턴하는 함수를 만들어주세요\n",
    "\n",
    "def cal(a, b):\n",
    "    return a+b, a-b, a*b, a//b\n",
    "\n",
    "print(cal(10, 3))"
   ]
  },
  {
   "cell_type": "code",
   "execution_count": 54,
   "metadata": {},
   "outputs": [
    {
     "name": "stdout",
     "output_type": "stream",
     "text": [
      "120\n",
      "15\n",
      "15\n"
     ]
    }
   ],
   "source": [
    "def add_mul(*args, choice='add'):\n",
    "    if choice == 'add':\n",
    "        result = 0\n",
    "        for i in args:\n",
    "            result += i\n",
    "    elif choice == 'mul':\n",
    "        result = 1\n",
    "        for i in args:\n",
    "            result *= i\n",
    "    return result\n",
    "\n",
    "print(add_mul(1, 2, 3, 4, 5, choice='mul'))\n",
    "print(add_mul(1, 2, 3, 4, 5))\n",
    "print(add_mul(1, 2, 3, 4, 5, choice='add'))"
   ]
  },
  {
   "cell_type": "code",
   "execution_count": null,
   "metadata": {},
   "outputs": [],
   "source": []
  },
  {
   "cell_type": "code",
   "execution_count": null,
   "metadata": {},
   "outputs": [],
   "source": []
  },
  {
   "cell_type": "code",
   "execution_count": null,
   "metadata": {},
   "outputs": [],
   "source": []
  }
 ],
 "metadata": {
  "kernelspec": {
   "display_name": "Python 3",
   "language": "python",
   "name": "python3"
  },
  "language_info": {
   "codemirror_mode": {
    "name": "ipython",
    "version": 3
   },
   "file_extension": ".py",
   "mimetype": "text/x-python",
   "name": "python",
   "nbconvert_exporter": "python",
   "pygments_lexer": "ipython3",
   "version": "3.13.1"
  }
 },
 "nbformat": 4,
 "nbformat_minor": 2
}
